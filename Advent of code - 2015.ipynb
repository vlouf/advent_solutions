{
 "cells": [
  {
   "cell_type": "code",
   "execution_count": 1,
   "id": "730f9521",
   "metadata": {},
   "outputs": [],
   "source": [
    "import re\n",
    "import json\n",
    "import hashlib\n",
    "import numpy as np\n",
    "import pandas as pd\n",
    "from itertools import permutations"
   ]
  },
  {
   "cell_type": "markdown",
   "id": "4fafe4f9",
   "metadata": {},
   "source": [
    "# Day 1"
   ]
  },
  {
   "cell_type": "code",
   "execution_count": 2,
   "id": "0e36d962",
   "metadata": {},
   "outputs": [],
   "source": [
    "with open(\"./data/adventofcode.com_2015_day_1_input\") as fid:\n",
    "    content = fid.read()"
   ]
  },
  {
   "cell_type": "code",
   "execution_count": 3,
   "id": "e3b20dcd",
   "metadata": {},
   "outputs": [],
   "source": [
    "level = 0\n",
    "for c in content:\n",
    "    if c == \"(\":\n",
    "        level += 1\n",
    "    elif c == \")\":\n",
    "        level -= 1\n",
    "    else:\n",
    "        raise ValueError(c)"
   ]
  },
  {
   "cell_type": "code",
   "execution_count": 4,
   "id": "51522db7",
   "metadata": {},
   "outputs": [
    {
     "data": {
      "text/plain": [
       "232"
      ]
     },
     "execution_count": 4,
     "metadata": {},
     "output_type": "execute_result"
    }
   ],
   "source": [
    "level"
   ]
  },
  {
   "cell_type": "code",
   "execution_count": 5,
   "id": "9906465f",
   "metadata": {},
   "outputs": [
    {
     "name": "stdout",
     "output_type": "stream",
     "text": [
      "1782\n"
     ]
    }
   ],
   "source": [
    "level = 0\n",
    "for idx, c in enumerate(content):\n",
    "    if c == \"(\":\n",
    "        level += 1\n",
    "    elif c == \")\":\n",
    "        level -= 1\n",
    "    else:\n",
    "        raise ValueError(c)\n",
    "    if level == -1:\n",
    "        print(idx)\n",
    "        break"
   ]
  },
  {
   "cell_type": "markdown",
   "id": "8098566f",
   "metadata": {},
   "source": [
    "# Day 2"
   ]
  },
  {
   "cell_type": "code",
   "execution_count": 81,
   "id": "877c5df6",
   "metadata": {},
   "outputs": [],
   "source": [
    "df = pd.read_csv(\"./data/adventofcode.com_2015_day_2_input\", sep=\"x\", names=[\"l\", \"w\", \"h\"])"
   ]
  },
  {
   "cell_type": "code",
   "execution_count": 82,
   "id": "0a6c7a19",
   "metadata": {},
   "outputs": [
    {
     "data": {
      "text/plain": [
       "1598415"
      ]
     },
     "execution_count": 82,
     "metadata": {},
     "output_type": "execute_result"
    }
   ],
   "source": [
    "df[\"lw\"] = df[\"l\"] * df[\"w\"]\n",
    "df[\"wh\"] = df[\"w\"] * df[\"h\"]\n",
    "df[\"hl\"] = df[\"h\"] * df[\"l\"]\n",
    "df[\"small\"] = [min(b) for a, b in df[[\"lw\", \"wh\", \"hl\"]].iterrows()]\n",
    "df[\"total\"] = 2 * df[\"lw\"] + 2 * df[\"wh\"] + 2 * df[\"hl\"] + df[\"small\"]\n",
    "df[\"total\"].sum()"
   ]
  },
  {
   "cell_type": "code",
   "execution_count": 83,
   "id": "0ba0e5d8",
   "metadata": {},
   "outputs": [
    {
     "data": {
      "text/plain": [
       "3812909"
      ]
     },
     "execution_count": 83,
     "metadata": {},
     "output_type": "execute_result"
    }
   ],
   "source": [
    "df[\"perimeter_small\"] = [2 * sum(sorted(b)[:2]) for a, b in df[[\"l\", \"w\", \"h\"]].iterrows()]\n",
    "df[\"wrap\"] =  df[\"h\"] * df[\"w\"] * df[\"l\"] + df[\"perimeter_small\"]\n",
    "df[\"wrap\"].sum()"
   ]
  },
  {
   "cell_type": "markdown",
   "id": "44b68b9e",
   "metadata": {},
   "source": [
    "# Day 3"
   ]
  },
  {
   "cell_type": "code",
   "execution_count": 42,
   "id": "afd3b15f",
   "metadata": {},
   "outputs": [],
   "source": [
    "with open(\"./data/adventofcode.com_2015_day_3_input.txt\") as fid:\n",
    "    content = fid.read()"
   ]
  },
  {
   "cell_type": "code",
   "execution_count": 51,
   "id": "5e2eb3bf",
   "metadata": {},
   "outputs": [],
   "source": [
    "nh = len(content)\n",
    "houses = np.zeros((nh * 2 + 1, nh * 2 + 1), dtype=np.int16)\n",
    "\n",
    "i = nh + 1\n",
    "j = nh + 1\n",
    "houses[i, j] = 1\n",
    "for c in content:\n",
    "    if c == \"^\":\n",
    "        j += 1\n",
    "    elif c == \"v\":\n",
    "        j -= 1\n",
    "    elif c == \">\":\n",
    "        i += 1\n",
    "    elif c == \"<\":\n",
    "        i -= 1\n",
    "    houses[i, j] += 1\n",
    "    "
   ]
  },
  {
   "cell_type": "code",
   "execution_count": 56,
   "id": "ece8ec07",
   "metadata": {},
   "outputs": [
    {
     "data": {
      "text/plain": [
       "2572"
      ]
     },
     "execution_count": 56,
     "metadata": {},
     "output_type": "execute_result"
    }
   ],
   "source": [
    "np.sum(houses > 0)"
   ]
  },
  {
   "cell_type": "code",
   "execution_count": 59,
   "id": "a203d5fb",
   "metadata": {},
   "outputs": [],
   "source": [
    "houses = np.zeros((nh * 2 + 1, nh * 2 + 1), dtype=np.int16)\n",
    "\n",
    "i = nh + 1\n",
    "j = nh + 1\n",
    "houses[i, j] = 2\n",
    "for c in content[::2]:\n",
    "    if c == \"^\":\n",
    "        j += 1\n",
    "    elif c == \"v\":\n",
    "        j -= 1\n",
    "    elif c == \">\":\n",
    "        i += 1\n",
    "    elif c == \"<\":\n",
    "        i -= 1\n",
    "    houses[i, j] += 1\n",
    "\n",
    "i = nh + 1\n",
    "j = nh + 1\n",
    "for c in content[1::2]:\n",
    "    if c == \"^\":\n",
    "        j += 1\n",
    "    elif c == \"v\":\n",
    "        j -= 1\n",
    "    elif c == \">\":\n",
    "        i += 1\n",
    "    elif c == \"<\":\n",
    "        i -= 1\n",
    "    houses[i, j] += 1"
   ]
  },
  {
   "cell_type": "code",
   "execution_count": 60,
   "id": "4b4d1119",
   "metadata": {},
   "outputs": [
    {
     "data": {
      "text/plain": [
       "2631"
      ]
     },
     "execution_count": 60,
     "metadata": {},
     "output_type": "execute_result"
    }
   ],
   "source": [
    "np.sum(houses > 0)"
   ]
  },
  {
   "cell_type": "markdown",
   "id": "5d51d981",
   "metadata": {},
   "source": [
    "# Day 4"
   ]
  },
  {
   "cell_type": "code",
   "execution_count": 75,
   "id": "951c9d39",
   "metadata": {},
   "outputs": [
    {
     "name": "stdout",
     "output_type": "stream",
     "text": [
      "9958218\n"
     ]
    }
   ],
   "source": [
    "for num in range(1, 10_000_000):\n",
    "    result = hashlib.md5(f'iwrupvqb{num}'.encode())\n",
    "    if result.hexdigest().startswith(\"00000\"):\n",
    "        print(num)\n",
    "        break"
   ]
  },
  {
   "cell_type": "markdown",
   "id": "03eeeab8",
   "metadata": {},
   "source": [
    "# Day 5"
   ]
  },
  {
   "cell_type": "code",
   "execution_count": 87,
   "id": "0f0f1005",
   "metadata": {},
   "outputs": [],
   "source": [
    "from collections import Counter"
   ]
  },
  {
   "cell_type": "code",
   "execution_count": 101,
   "id": "507655a4",
   "metadata": {},
   "outputs": [],
   "source": [
    "with open(\"data/adventofcode.com_2015_day_5_input.txt\") as fid:\n",
    "    content = fid.read().splitlines()"
   ]
  },
  {
   "cell_type": "code",
   "execution_count": 102,
   "id": "f1abbdee",
   "metadata": {},
   "outputs": [],
   "source": [
    "good = 0\n",
    "bad = 0\n",
    "for line in content:\n",
    "    test = len(re.findall(\"(\\w)\\\\1\", line)) > 0 \n",
    "    test &= sum([Counter(line)[vow] for vow in \"aeiou\"]) >= 3\n",
    "    test &= not any([i in line for i in [\"ab\", \"cd\", \"pq\", \"xy\"]])\n",
    "    if test:\n",
    "        good += 1\n",
    "    else:\n",
    "        bad += 1"
   ]
  },
  {
   "cell_type": "code",
   "execution_count": 103,
   "id": "43b17974",
   "metadata": {},
   "outputs": [
    {
     "data": {
      "text/plain": [
       "258"
      ]
     },
     "execution_count": 103,
     "metadata": {},
     "output_type": "execute_result"
    }
   ],
   "source": [
    "good"
   ]
  },
  {
   "cell_type": "code",
   "execution_count": 121,
   "id": "6f416c93",
   "metadata": {},
   "outputs": [],
   "source": [
    "line = \"qjhvhtzxzqqjkmpb\""
   ]
  },
  {
   "cell_type": "code",
   "execution_count": 131,
   "id": "08267315",
   "metadata": {},
   "outputs": [
    {
     "name": "stdout",
     "output_type": "stream",
     "text": [
      "53\n"
     ]
    }
   ],
   "source": [
    "count = sum(\n",
    "      1 for s in content\n",
    "      if len(re.findall(r\"([a-z]{2}).*\\1\", s))\n",
    "      and re.findall(r\"([a-z]).\\1\", s)\n",
    " )\n",
    "print(count)"
   ]
  },
  {
   "cell_type": "markdown",
   "id": "651beec4",
   "metadata": {},
   "source": [
    "# Day 6"
   ]
  },
  {
   "cell_type": "code",
   "execution_count": 160,
   "id": "e69b4441",
   "metadata": {},
   "outputs": [],
   "source": [
    "with open(\"data/adventofcode.com_2015_day_6_input.txt\") as fid:\n",
    "    content = fid.read().splitlines()"
   ]
  },
  {
   "cell_type": "code",
   "execution_count": 165,
   "id": "3b46e899",
   "metadata": {},
   "outputs": [],
   "source": [
    "def get_coord(line):\n",
    "    start_str, end_str = re.findall(\"[0-9]+,[0-9]+\", line)\n",
    "    i, j = start_str.split(\",\")\n",
    "    k, l = end_str.split(\",\")\n",
    "    return int(i), int(j), int(k) + 1, int(l) + 1"
   ]
  },
  {
   "cell_type": "code",
   "execution_count": 166,
   "id": "3f52371c",
   "metadata": {},
   "outputs": [],
   "source": [
    "grid = np.zeros((1000, 1000), dtype=np.int16)\n",
    "for line in content:\n",
    "    i, j, k, l = get_coord(line)\n",
    "    if line.startswith(\"turn on\"):\n",
    "        grid[slice(i, k), slice(j, l)] = 1\n",
    "    elif line.startswith(\"turn off\"):\n",
    "        grid[slice(i, k), slice(j, l)] = 0\n",
    "    elif line.startswith(\"toggle\"):\n",
    "        grid[slice(i, k), slice(j, l)] += 1\n",
    "        grid[slice(i, k), slice(j, l)] = grid[slice(i, k), slice(j, l)] % 2"
   ]
  },
  {
   "cell_type": "code",
   "execution_count": 175,
   "id": "c25ae248",
   "metadata": {},
   "outputs": [
    {
     "data": {
      "text/plain": [
       "15343601"
      ]
     },
     "execution_count": 175,
     "metadata": {},
     "output_type": "execute_result"
    }
   ],
   "source": [
    "grid.sum()"
   ]
  },
  {
   "cell_type": "code",
   "execution_count": 172,
   "id": "87c67b46",
   "metadata": {},
   "outputs": [],
   "source": [
    "grid = np.zeros((1000, 1000), dtype=np.int16)\n",
    "for line in content:\n",
    "    i, j, k, l = get_coord(line)\n",
    "    if line.startswith(\"turn on\"):\n",
    "        grid[slice(i, k), slice(j, l)] += 1\n",
    "    elif line.startswith(\"turn off\"):\n",
    "        grid[slice(i, k), slice(j, l)] -= 1\n",
    "        grid[grid < 0] = 0\n",
    "    elif line.startswith(\"toggle\"):\n",
    "        grid[slice(i, k), slice(j, l)] += 2"
   ]
  },
  {
   "cell_type": "code",
   "execution_count": 173,
   "id": "96e8294c",
   "metadata": {},
   "outputs": [
    {
     "data": {
      "text/plain": [
       "15343601"
      ]
     },
     "execution_count": 173,
     "metadata": {},
     "output_type": "execute_result"
    }
   ],
   "source": [
    "grid.sum()"
   ]
  },
  {
   "cell_type": "markdown",
   "id": "2e76701e",
   "metadata": {},
   "source": [
    "# Day 7"
   ]
  },
  {
   "cell_type": "code",
   "execution_count": 193,
   "id": "d57de129",
   "metadata": {},
   "outputs": [],
   "source": [
    "with open(\"data/adventofcode.com_2015_day_7_input.txt\") as fid:\n",
    "    commands = fid.read().splitlines()"
   ]
  },
  {
   "cell_type": "code",
   "execution_count": 194,
   "id": "4edc4942",
   "metadata": {},
   "outputs": [
    {
     "name": "stdout",
     "output_type": "stream",
     "text": [
      "a: 14710\n"
     ]
    }
   ],
   "source": [
    "calc = dict()\n",
    "results = dict()\n",
    "\n",
    "for command in commands:\n",
    "    (ops, res) = command.split('->')\n",
    "    calc[res.strip()] = ops.strip().split(' ')\n",
    "\n",
    "def calculate(name):\n",
    "    try:\n",
    "        return int(name)\n",
    "    except ValueError:\n",
    "        pass\n",
    "\n",
    "    if name not in results:\n",
    "        ops = calc[name]\n",
    "        if len(ops) == 1:\n",
    "            res = calculate(ops[0])\n",
    "        else:\n",
    "            op = ops[-2]\n",
    "            if op == 'AND':\n",
    "                res = calculate(ops[0]) & calculate(ops[2])\n",
    "            elif op == 'OR':\n",
    "                res = calculate(ops[0]) | calculate(ops[2])\n",
    "            elif op == 'NOT':\n",
    "                res = ~calculate(ops[1]) & 0xffff\n",
    "            elif op == 'RSHIFT':\n",
    "                res = calculate(ops[0]) >> calculate(ops[2])\n",
    "            elif op == 'LSHIFT':\n",
    "                res = calculate(ops[0]) << calculate(ops[2])\n",
    "        results[name] = res\n",
    "    return results[name]\n",
    "\n",
    "print(\"a: %d\" % calculate('a'))"
   ]
  },
  {
   "cell_type": "markdown",
   "id": "7eb92592",
   "metadata": {},
   "source": [
    "# Day 8"
   ]
  },
  {
   "cell_type": "code",
   "execution_count": 6,
   "id": "96ab079d",
   "metadata": {},
   "outputs": [
    {
     "name": "stdout",
     "output_type": "stream",
     "text": [
      "1333\n"
     ]
    }
   ],
   "source": [
    "print(sum(len(s[:-1]) - len(eval(s)) for s in open(\"data/adventofcode.com_2015_day_8_input.txt\")))"
   ]
  },
  {
   "cell_type": "code",
   "execution_count": 7,
   "id": "8b9573a1",
   "metadata": {},
   "outputs": [
    {
     "name": "stdout",
     "output_type": "stream",
     "text": [
      "2046\n"
     ]
    }
   ],
   "source": [
    "print(sum(2+s.count('\\\\')+s.count('\"') for s in open(\"data/adventofcode.com_2015_day_8_input.txt\")))"
   ]
  },
  {
   "cell_type": "markdown",
   "id": "390caa27",
   "metadata": {},
   "source": [
    "# Day 9"
   ]
  },
  {
   "cell_type": "code",
   "execution_count": 26,
   "id": "5d5ddd6f",
   "metadata": {},
   "outputs": [],
   "source": [
    "content = \"\"\"Faerun to Tristram = 65\n",
    "Faerun to Tambi = 129\n",
    "Faerun to Norrath = 144\n",
    "Faerun to Snowdin = 71\n",
    "Faerun to Straylight = 137\n",
    "Faerun to AlphaCentauri = 3\n",
    "Faerun to Arbre = 149\n",
    "Tristram to Tambi = 63\n",
    "Tristram to Norrath = 4\n",
    "Tristram to Snowdin = 105\n",
    "Tristram to Straylight = 125\n",
    "Tristram to AlphaCentauri = 55\n",
    "Tristram to Arbre = 14\n",
    "Tambi to Norrath = 68\n",
    "Tambi to Snowdin = 52\n",
    "Tambi to Straylight = 65\n",
    "Tambi to AlphaCentauri = 22\n",
    "Tambi to Arbre = 143\n",
    "Norrath to Snowdin = 8\n",
    "Norrath to Straylight = 23\n",
    "Norrath to AlphaCentauri = 136\n",
    "Norrath to Arbre = 115\n",
    "Snowdin to Straylight = 101\n",
    "Snowdin to AlphaCentauri = 84\n",
    "Snowdin to Arbre = 96\n",
    "Straylight to AlphaCentauri = 107\n",
    "Straylight to Arbre = 14\n",
    "AlphaCentauri to Arbre = 46\n",
    "\"\"\".splitlines()"
   ]
  },
  {
   "cell_type": "code",
   "execution_count": 27,
   "id": "83de5119",
   "metadata": {},
   "outputs": [],
   "source": [
    "data = {}\n",
    "cities = []\n",
    "for line in content:\n",
    "    nar = re.findall(\"(\\w+) to (\\w+) = ([0-9]+)\", line)[0]\n",
    "    cities.append(nar[0])\n",
    "    cities.append(nar[1])\n",
    "    if nar[0] in data.keys():\n",
    "        data[nar[0]] = {nar[1]: int(nar[2]), **data[nar[0]]}\n",
    "    else:\n",
    "        data[nar[0]] = {nar[1]: int(nar[2])}"
   ]
  },
  {
   "cell_type": "code",
   "execution_count": 28,
   "id": "27c2acfb",
   "metadata": {},
   "outputs": [],
   "source": [
    "ci = np.unique(cities)\n",
    "nir = [*permutations(np.arange(len(ci)))]"
   ]
  },
  {
   "cell_type": "code",
   "execution_count": 29,
   "id": "a8080d9f",
   "metadata": {},
   "outputs": [],
   "source": [
    "def get_iter(arr, v):\n",
    "    if len(arr) == 1:\n",
    "        return arr[0]\n",
    "    else:\n",
    "        return [a for a in arr if a != v]"
   ]
  },
  {
   "cell_type": "code",
   "execution_count": 30,
   "id": "9bbd967e",
   "metadata": {},
   "outputs": [],
   "source": [
    "def get_dist(city1, city2):\n",
    "    global data\n",
    "    try:\n",
    "        d = data[city1][city2]\n",
    "    except KeyError:\n",
    "        d = data[city2][city1]\n",
    "    return d"
   ]
  },
  {
   "cell_type": "code",
   "execution_count": 31,
   "id": "0d283a9e",
   "metadata": {},
   "outputs": [],
   "source": [
    "dist = np.zeros((len(nir)))\n",
    "for idx, indices in enumerate(nir):\n",
    "    for i0, i1 in zip(indices[:-1], indices[1:]):\n",
    "        dist[idx] += get_dist(ci[i0], ci[i1])"
   ]
  },
  {
   "cell_type": "code",
   "execution_count": 32,
   "id": "97e4adc0",
   "metadata": {},
   "outputs": [
    {
     "data": {
      "text/plain": [
       "909.0"
      ]
     },
     "execution_count": 32,
     "metadata": {},
     "output_type": "execute_result"
    }
   ],
   "source": [
    "dist.max()"
   ]
  },
  {
   "cell_type": "markdown",
   "id": "ff561820",
   "metadata": {},
   "source": [
    "# Day 10"
   ]
  },
  {
   "cell_type": "code",
   "execution_count": 46,
   "id": "851f18bb",
   "metadata": {
    "scrolled": true
   },
   "outputs": [
    {
     "name": "stdout",
     "output_type": "stream",
     "text": [
      "12\n",
      "18\n",
      "22\n",
      "28\n",
      "38\n",
      "48\n",
      "60\n",
      "76\n",
      "100\n",
      "118\n",
      "146\n",
      "192\n",
      "246\n",
      "328\n",
      "428\n",
      "562\n",
      "732\n",
      "970\n",
      "1250\n",
      "1622\n",
      "2128\n",
      "2754\n",
      "3592\n",
      "4728\n",
      "6162\n",
      "8072\n",
      "10504\n",
      "13736\n",
      "17874\n",
      "23248\n",
      "30322\n",
      "39392\n",
      "51438\n",
      "67070\n",
      "87402\n",
      "114056\n",
      "148740\n",
      "193828\n",
      "252594\n",
      "329356\n",
      "429204\n",
      "559092\n",
      "729412\n",
      "950310\n",
      "1239364\n",
      "1615860\n",
      "2106324\n",
      "2746068\n",
      "3579328\n",
      "4666278\n"
     ]
    }
   ],
   "source": [
    "line = \"3113322113\"\n",
    "cnt = 0\n",
    "while cnt < 50 :\n",
    "    newline = \"\"\n",
    "    count = 1\n",
    "    similar = False\n",
    "    for i in range(len(line) - 1):\n",
    "        if line[i] == line[i + 1]:\n",
    "            count += 1\n",
    "            similar = True\n",
    "        else:\n",
    "            newline += f\"{count}{line[i]}\"\n",
    "            count = 1\n",
    "            similar = False\n",
    "    \n",
    "    if similar:\n",
    "#         count += 1\n",
    "        newline += f\"{count}{line[-1]}\"\n",
    "    else:\n",
    "        newline += f\"1{line[-1]}\"\n",
    "        \n",
    "    cnt += 1\n",
    "    line = newline\n",
    "    print(len(line))\n",
    "            "
   ]
  },
  {
   "cell_type": "markdown",
   "id": "8ff2ec7f",
   "metadata": {},
   "source": [
    "# Day 11"
   ]
  },
  {
   "cell_type": "code",
   "execution_count": 88,
   "id": "10896102",
   "metadata": {},
   "outputs": [],
   "source": [
    "def check_seq(t):\n",
    "    idx = 0\n",
    "    count = 0\n",
    "    rslt = False\n",
    "    while idx < len(t) - 1:\n",
    "        if t[idx] == t[idx + 1] - 1:\n",
    "            count += 1\n",
    "        else:\n",
    "            count = 0\n",
    "        if count == 2:\n",
    "            rslt = True\n",
    "            break\n",
    "\n",
    "        idx += 1\n",
    "    return rslt"
   ]
  },
  {
   "cell_type": "code",
   "execution_count": 86,
   "id": "390443d3",
   "metadata": {},
   "outputs": [],
   "source": [
    "def increment(t, idx):\n",
    "    last = ord(\"z\")\n",
    "    start = ord(\"a\")\n",
    "    \n",
    "    t[idx] += 1\n",
    "    if t[idx] > last:\n",
    "        t[idx] = start\n",
    "        t = increment(t, idx - 1)\n",
    "    \n",
    "    return t"
   ]
  },
  {
   "cell_type": "code",
   "execution_count": 128,
   "id": "ce8b7596",
   "metadata": {},
   "outputs": [],
   "source": [
    "def detect_consecutive_pairs(lst):\n",
    "    pairs = []\n",
    "    triplet = False\n",
    "    for i in range(len(lst) - 1):\n",
    "        if triplet:\n",
    "            triplet = False\n",
    "            continue\n",
    "    \n",
    "        # If the current element is equal to the next element\n",
    "        if lst[i] == lst[i + 1]:\n",
    "            if i < len(lst) - 2:\n",
    "                if lst[i + 1] == lst[i + 2]:\n",
    "                    triplet = True\n",
    "                    continue\n",
    "\n",
    "            pairs.append((lst[i], lst[i + 1]))\n",
    "\n",
    "    return len(set([p[0] for p in pairs])) > 1"
   ]
  },
  {
   "cell_type": "code",
   "execution_count": 135,
   "id": "449286e7",
   "metadata": {},
   "outputs": [
    {
     "name": "stdout",
     "output_type": "stream",
     "text": [
      "heqaabcc\n"
     ]
    }
   ],
   "source": [
    "pw = \"hepxxzaa\"\n",
    "t = np.array([ord(c) for c in pw])\n",
    "forbid = [ord(\"i\"), ord(\"l\"), ord(\"o\")]\n",
    "last = ord(\"z\")\n",
    "start = ord(\"a\")\n",
    "\n",
    "while True:\n",
    "    if any([a in forbid for a in t]):\n",
    "        idx = np.where((t == ord(\"i\")) | (t == ord(\"l\")) | (t == ord(\"o\")))[0].min()\n",
    "        t[idx] += 1\n",
    "        t[idx + 1 :] = start\n",
    "        continue\n",
    "    if not check_seq(t):\n",
    "        t = increment(t, 7)\n",
    "        continue\n",
    "    if not detect_consecutive_pairs(t):\n",
    "        t = increment(t, 7)\n",
    "        continue\n",
    "    \n",
    "    pw = [chr(i) for i in t]\n",
    "    print(\"\".join(pw))\n",
    "    break"
   ]
  },
  {
   "cell_type": "code",
   "execution_count": 134,
   "id": "a5ab7b29",
   "metadata": {},
   "outputs": [
    {
     "name": "stdout",
     "output_type": "stream",
     "text": [
      "hepxxzaa\n"
     ]
    }
   ],
   "source": [
    "pw = \"hepxxyzz\"\n",
    "t = np.array([ord(c) for c in pw])\n",
    "t = increment(t, 7)\n",
    "pw = [chr(i) for i in t]\n",
    "print(\"\".join(pw))"
   ]
  },
  {
   "cell_type": "markdown",
   "id": "d6309e94",
   "metadata": {},
   "source": [
    "# Day 12"
   ]
  },
  {
   "cell_type": "code",
   "execution_count": 136,
   "id": "26635249",
   "metadata": {},
   "outputs": [],
   "source": [
    "with open(\"./data/adventofcode.com_2015_day_12_input.txt\") as fid:\n",
    "    content = fid.read()"
   ]
  },
  {
   "cell_type": "code",
   "execution_count": 158,
   "id": "e595e9aa",
   "metadata": {},
   "outputs": [
    {
     "name": "stdout",
     "output_type": "stream",
     "text": [
      "191164\n"
     ]
    }
   ],
   "source": [
    "nb = [int(i) for i in re.findall(\"-?\\\\d+\",content)]\n",
    "print(sum(nb))"
   ]
  },
  {
   "cell_type": "code",
   "execution_count": 155,
   "id": "12eb6d0d",
   "metadata": {},
   "outputs": [],
   "source": [
    "data = json.loads(content)"
   ]
  },
  {
   "cell_type": "code",
   "execution_count": 162,
   "id": "91468a72",
   "metadata": {},
   "outputs": [],
   "source": [
    "def n(j):\n",
    "    if type(j) == int:\n",
    "        return j\n",
    "    if type(j) == list:\n",
    "        return sum([n(j) for j in j])\n",
    "    if type(j) != dict:\n",
    "        return 0\n",
    "    if 'red' in j.values():\n",
    "        return 0\n",
    "    return n(list(j.values()))\n",
    "\n",
    "# print(n(loads(input())))"
   ]
  },
  {
   "cell_type": "code",
   "execution_count": 163,
   "id": "4f2c2884",
   "metadata": {},
   "outputs": [
    {
     "data": {
      "text/plain": [
       "87842"
      ]
     },
     "execution_count": 163,
     "metadata": {},
     "output_type": "execute_result"
    }
   ],
   "source": [
    "n(data)"
   ]
  },
  {
   "cell_type": "markdown",
   "id": "85bc330d",
   "metadata": {},
   "source": [
    "# Day 13"
   ]
  },
  {
   "cell_type": "code",
   "execution_count": 15,
   "id": "e1115804",
   "metadata": {},
   "outputs": [],
   "source": [
    "with open(\"./data/adventofcode.com_2015_day_13_input.txt\") as fid:\n",
    "    txt = fid.read()"
   ]
  },
  {
   "cell_type": "code",
   "execution_count": 16,
   "id": "d91803f2",
   "metadata": {},
   "outputs": [],
   "source": [
    "txt2 = txt.replace(\"lose \", \"-\")\n",
    "data = {}\n",
    "people = []\n",
    "for line in txt2.splitlines():\n",
    "    nar = re.findall(\"(-?\\\\d+)\", line)[0]\n",
    "    p0 = line.split(\" \")[0]\n",
    "    p1 = line.split(\" \")[-1].rstrip(\".\")\n",
    "    if p0 not in people:\n",
    "        people.append(p0)\n",
    "    if p1 not in people:\n",
    "        people.append(p1)\n",
    "        \n",
    "    if p0 in data.keys():\n",
    "        data[p0] = {p1: int(nar), **data[p0]}\n",
    "    else:\n",
    "        data[p0] = {p1: int(nar)}"
   ]
  },
  {
   "cell_type": "code",
   "execution_count": 17,
   "id": "aee62831",
   "metadata": {},
   "outputs": [],
   "source": [
    "nir = [*permutations(np.arange(len(people)))]"
   ]
  },
  {
   "cell_type": "code",
   "execution_count": 19,
   "id": "adce4e24",
   "metadata": {},
   "outputs": [],
   "source": [
    "def get_happy(p0, p1):\n",
    "    global data\n",
    "    d = data[p0][p1]\n",
    "    return d"
   ]
  },
  {
   "cell_type": "code",
   "execution_count": 20,
   "id": "a5584a32",
   "metadata": {},
   "outputs": [],
   "source": [
    "happy = np.zeros((len(nir)), dtype=int)\n",
    "for cnt, idx in enumerate(nir):\n",
    "    tmp = [*idx]\n",
    "    tmp.append(idx[0])\n",
    "    happy[cnt] = sum([get_happy(people[a], people[b]) for a, b in zip(tmp[:-1], tmp[1:])])\n",
    "    happy[cnt] += sum([get_happy(people[a], people[b]) for a, b in zip(tmp[::-1][:-1], tmp[::-1][1:])])"
   ]
  },
  {
   "cell_type": "code",
   "execution_count": 21,
   "id": "0754fec6",
   "metadata": {},
   "outputs": [
    {
     "data": {
      "text/plain": [
       "664"
      ]
     },
     "execution_count": 21,
     "metadata": {},
     "output_type": "execute_result"
    }
   ],
   "source": [
    "happy.max()"
   ]
  },
  {
   "cell_type": "code",
   "execution_count": 22,
   "id": "a8908805",
   "metadata": {},
   "outputs": [],
   "source": [
    "for k, v in data.items():\n",
    "    data[k] = {\"me\": 0, **v}\n",
    "    \n",
    "data[\"me\"] = {k: 0 for k in people}\n",
    "people.append(\"me\")"
   ]
  },
  {
   "cell_type": "code",
   "execution_count": 23,
   "id": "aac1bc77",
   "metadata": {},
   "outputs": [],
   "source": [
    "nir = [*permutations(np.arange(len(people)))]"
   ]
  },
  {
   "cell_type": "code",
   "execution_count": 24,
   "id": "58d3ceb8",
   "metadata": {},
   "outputs": [],
   "source": [
    "happy = np.zeros((len(nir)), dtype=int)\n",
    "for cnt, idx in enumerate(nir):\n",
    "    tmp = [*idx]\n",
    "    tmp.append(idx[0])\n",
    "    happy[cnt] = sum([get_happy(people[a], people[b]) for a, b in zip(tmp[:-1], tmp[1:])])\n",
    "    happy[cnt] += sum([get_happy(people[a], people[b]) for a, b in zip(tmp[::-1][:-1], tmp[::-1][1:])])"
   ]
  },
  {
   "cell_type": "code",
   "execution_count": 25,
   "id": "19162142",
   "metadata": {},
   "outputs": [
    {
     "data": {
      "text/plain": [
       "640"
      ]
     },
     "execution_count": 25,
     "metadata": {},
     "output_type": "execute_result"
    }
   ],
   "source": [
    "happy.max()"
   ]
  },
  {
   "cell_type": "markdown",
   "id": "0d67dc06",
   "metadata": {},
   "source": [
    "# Day 14"
   ]
  },
  {
   "cell_type": "code",
   "execution_count": 249,
   "id": "497062bc",
   "metadata": {},
   "outputs": [],
   "source": [
    "content = \"\"\"Dancer can fly 27 km/s for 5 seconds, but then must rest for 132 seconds.\n",
    "Cupid can fly 22 km/s for 2 seconds, but then must rest for 41 seconds.\n",
    "Rudolph can fly 11 km/s for 5 seconds, but then must rest for 48 seconds.\n",
    "Donner can fly 28 km/s for 5 seconds, but then must rest for 134 seconds.\n",
    "Dasher can fly 4 km/s for 16 seconds, but then must rest for 55 seconds.\n",
    "Blitzen can fly 14 km/s for 3 seconds, but then must rest for 38 seconds.\n",
    "Prancer can fly 3 km/s for 21 seconds, but then must rest for 40 seconds.\n",
    "Comet can fly 18 km/s for 6 seconds, but then must rest for 103 seconds.\n",
    "Vixen can fly 18 km/s for 5 seconds, but then must rest for 84 seconds.\"\"\""
   ]
  },
  {
   "cell_type": "code",
   "execution_count": 250,
   "id": "311a0ab7",
   "metadata": {},
   "outputs": [],
   "source": [
    "names = [n.split(\" \")[0] for n in content.splitlines()]"
   ]
  },
  {
   "cell_type": "code",
   "execution_count": 254,
   "id": "14e4fde3",
   "metadata": {},
   "outputs": [],
   "source": [
    "speed = []\n",
    "time_moving = []\n",
    "time_resting = []\n",
    "for n in content.splitlines():\n",
    "    a, b, c = re.findall(\"\\\\d+\", n)\n",
    "    speed.append(int(a))\n",
    "    time_moving.append(int(b))\n",
    "    time_resting.append(int(c))"
   ]
  },
  {
   "cell_type": "code",
   "execution_count": 288,
   "id": "cd11c1da",
   "metadata": {},
   "outputs": [],
   "source": [
    "class Reindeer:\n",
    "    def __init__(self, name, speed, move, rest):\n",
    "        self.name = name\n",
    "        self.speed = speed\n",
    "        self.time_moving = move\n",
    "        self.time_resting = rest\n",
    "        self.distance = 0\n",
    "        self.state_time = 0\n",
    "        self.clock = 0\n",
    "        self.is_resting = False\n",
    "        self.points = 0\n",
    "        \n",
    "    def do_increment(self):\n",
    "        self.state_time += 1\n",
    "        self.clock += 1\n",
    "        \n",
    "        if self.is_resting:\n",
    "            if self.state_time == self.time_resting:\n",
    "                self.fly()\n",
    "        else:\n",
    "            self.distance += self.speed\n",
    "            if self.state_time == self.time_moving:\n",
    "                self.stop()\n",
    "                \n",
    "    def fly(self):\n",
    "        self.state_time = 0\n",
    "        self.is_resting = False\n",
    "        \n",
    "    def stop(self):\n",
    "        self.state_time = 0\n",
    "        self.is_resting = True\n",
    "        \n",
    "    def get_distance(self):\n",
    "        return self.distance\n",
    "    \n",
    "    def reward(self):\n",
    "        self.points += 1\n",
    "    "
   ]
  },
  {
   "cell_type": "code",
   "execution_count": 273,
   "id": "6dbd5c9e",
   "metadata": {},
   "outputs": [],
   "source": [
    "reins = [None] * len(names)\n",
    "for i in range(len(names)):\n",
    "    reins[i] = Reindeer(\n",
    "        names[i],\n",
    "        speed[i],\n",
    "        time_moving[i],\n",
    "        time_resting[i]\n",
    "    )"
   ]
  },
  {
   "cell_type": "code",
   "execution_count": 276,
   "id": "0426c06a",
   "metadata": {},
   "outputs": [
    {
     "name": "stdout",
     "output_type": "stream",
     "text": [
      "Dancer: 2565 km\n",
      "Cupid: 2596 km\n",
      "Rudolph: 2640 km\n",
      "Donner: 2548 km\n",
      "Dasher: 2304 km\n",
      "Blitzen: 2590 km\n",
      "Prancer: 2589 km\n",
      "Comet: 2484 km\n",
      "Vixen: 2610 km\n"
     ]
    }
   ],
   "source": [
    "for i in range(2503):\n",
    "    [r.do_increment() for r in reins]\n",
    "    \n",
    "for i in range(len(names)):\n",
    "    print(f\"{reins[i].name}: {reins[i].get_distance()} km\")"
   ]
  },
  {
   "cell_type": "code",
   "execution_count": 277,
   "id": "a3e4d8d9",
   "metadata": {},
   "outputs": [],
   "source": [
    "dist = [r.get_distance() for r in reins]"
   ]
  },
  {
   "cell_type": "code",
   "execution_count": 289,
   "id": "c26e55ed",
   "metadata": {},
   "outputs": [],
   "source": [
    "reins = [None] * len(names)\n",
    "for i in range(len(names)):\n",
    "    reins[i] = Reindeer(\n",
    "        names[i],\n",
    "        speed[i],\n",
    "        time_moving[i],\n",
    "        time_resting[i]\n",
    "    )"
   ]
  },
  {
   "cell_type": "code",
   "execution_count": 290,
   "id": "fba96640",
   "metadata": {},
   "outputs": [],
   "source": [
    "for i in range(2503):\n",
    "    [r.do_increment() for r in reins]\n",
    "    dist = np.array([r.get_distance() for r in reins])\n",
    "    leaders = np.where(dist.max() == dist)[0]\n",
    "    for j in leaders:\n",
    "        reins[j].reward()\n"
   ]
  },
  {
   "cell_type": "code",
   "execution_count": 292,
   "id": "d71c2b77",
   "metadata": {},
   "outputs": [
    {
     "data": {
      "text/plain": [
       "1102"
      ]
     },
     "execution_count": 292,
     "metadata": {},
     "output_type": "execute_result"
    }
   ],
   "source": [
    "max([r.points for r in reins])"
   ]
  },
  {
   "cell_type": "markdown",
   "id": "fab85c6b",
   "metadata": {},
   "source": [
    "# Day 15\n",
    "\n",
    "C++ code in Ubuntu"
   ]
  },
  {
   "cell_type": "markdown",
   "id": "4761a111",
   "metadata": {},
   "source": [
    "# Day 16"
   ]
  },
  {
   "cell_type": "code",
   "execution_count": 80,
   "id": "ef72970d",
   "metadata": {},
   "outputs": [],
   "source": [
    "with open(\"data/adventofcode.com_2015_day_16_input\") as fid:\n",
    "    content = fid.read().splitlines()"
   ]
  },
  {
   "cell_type": "code",
   "execution_count": 82,
   "id": "7cf18fb1",
   "metadata": {},
   "outputs": [],
   "source": [
    "sue = {\"children\": 3,\n",
    "\"cats\": 7,\n",
    "\"samoyeds\": 2,\n",
    "\"pomeranians\": 3,\n",
    "\"akitas\": 0,\n",
    "\"vizslas\": 0,\n",
    "\"goldfish\": 5,\n",
    "\"trees\": 3,\n",
    "\"cars\": 2,\n",
    "\"perfumes\": 1,\n",
    "}"
   ]
  },
  {
   "cell_type": "code",
   "execution_count": 103,
   "id": "5de75cf0",
   "metadata": {},
   "outputs": [
    {
     "name": "stdout",
     "output_type": "stream",
     "text": [
      "Sue 213: children: 3, goldfish: 5, vizslas: 0\n"
     ]
    }
   ],
   "source": [
    "count = 0\n",
    "for s in content:\n",
    "    rslt = re.findall(r\"Sue (\\d+): (\\w+): (\\d+), (\\w+): (\\d+), (\\w+): (\\d+)\", s)[0]\n",
    "    numsue = int(rslt[0])\n",
    "    keys = [r for r in rslt[1::2]]\n",
    "    values = [int(r) for r in rslt[2::2]]\n",
    "    \n",
    "    bad = False\n",
    "    for k, v in zip(keys, values):\n",
    "        if sue[k] != v:\n",
    "            bad = True\n",
    "    \n",
    "    if not bad:\n",
    "        print(s)\n",
    "        count += 1"
   ]
  },
  {
   "cell_type": "code",
   "execution_count": 104,
   "id": "3bd2b8c2",
   "metadata": {},
   "outputs": [
    {
     "name": "stdout",
     "output_type": "stream",
     "text": [
      "Sue 213: children: 3, goldfish: 5, vizslas: 0\n",
      "Sue 323: perfumes: 1, trees: 6, goldfish: 0\n"
     ]
    }
   ],
   "source": [
    "count = 0\n",
    "for s in content:\n",
    "    rslt = re.findall(r\"Sue (\\d+): (\\w+): (\\d+), (\\w+): (\\d+), (\\w+): (\\d+)\", s)[0]\n",
    "    numsue = int(rslt[0])\n",
    "    keys = [r for r in rslt[1::2]]\n",
    "    values = [int(r) for r in rslt[2::2]]\n",
    "    \n",
    "    bad = False\n",
    "    for k, v in zip(keys, values):\n",
    "        if k in [\"cats\", \"trees\"]:\n",
    "            if v < sue[k]:\n",
    "                bad = True\n",
    "                break\n",
    "        elif k in [\"pomeranians\", \"goldfish\"]:\n",
    "            if v > sue[k]:\n",
    "                bad = True\n",
    "                break\n",
    "        else:\n",
    "            if sue[k] != v:\n",
    "                bad = True\n",
    "                break\n",
    "    \n",
    "    if not bad:\n",
    "        print(s)\n",
    "        count += 1"
   ]
  },
  {
   "cell_type": "markdown",
   "id": "047cc5b4",
   "metadata": {},
   "source": [
    "# Day 17"
   ]
  },
  {
   "cell_type": "code",
   "execution_count": 132,
   "id": "bfbcb22e",
   "metadata": {},
   "outputs": [
    {
     "name": "stdout",
     "output_type": "stream",
     "text": [
      "4 9999\n"
     ]
    }
   ],
   "source": [
    "x = np.vectorize(int)([11, 30, 47, 31, 32, 36, 3, 1, 5, 3, 32, 36, 15, 11, 46, 26, 28, 1, 19, 3])\n",
    "c = 0\n",
    "\n",
    "for i in range(1 << len(x)):\n",
    "    t = i\n",
    "    s = 0\n",
    "    count = 0\n",
    "    for j in x:\n",
    "        if t % 2 == 1:\n",
    "            s += j\n",
    "            count += 1\n",
    "            \n",
    "        t //= 2\n",
    "    \n",
    "    if count == 4:\n",
    "        if s == 150:\n",
    "            c += 1\n",
    "            \n",
    "print(c)"
   ]
  },
  {
   "cell_type": "markdown",
   "id": "3c29eb27",
   "metadata": {},
   "source": [
    "# Day 18"
   ]
  },
  {
   "cell_type": "code",
   "execution_count": 166,
   "id": "65ce806b",
   "metadata": {},
   "outputs": [],
   "source": [
    "with open(\"data/adventofcode.com_2015_day_18_input\") as fid:\n",
    "    content = fid.read().replace('\\n', \"\")"
   ]
  },
  {
   "cell_type": "code",
   "execution_count": 184,
   "id": "b490612c",
   "metadata": {},
   "outputs": [],
   "source": [
    "from collections import Counter"
   ]
  },
  {
   "cell_type": "code",
   "execution_count": 167,
   "id": "8610d992",
   "metadata": {},
   "outputs": [],
   "source": [
    "grid = np.zeros((100 * 100), dtype=int)\n",
    "for i in range(len(content)):\n",
    "    if content[i] == \"#\":\n",
    "        grid[i] = 1\n",
    "        \n",
    "grid = grid.reshape((100, 100))"
   ]
  },
  {
   "cell_type": "code",
   "execution_count": 189,
   "id": "15560dab",
   "metadata": {
    "scrolled": true
   },
   "outputs": [
    {
     "name": "stdout",
     "output_type": "stream",
     "text": [
      "ON: 1102, OFF: 3298, grid: 2804\n",
      "ON: 1276, OFF: 1459, grid: 2621\n",
      "ON: 1185, OFF: 1259, grid: 2547\n",
      "ON: 1130, OFF: 1186, grid: 2491\n",
      "ON: 1042, OFF: 1227, grid: 2306\n",
      "ON: 1081, OFF: 1062, grid: 2325\n",
      "ON: 960, OFF: 1147, grid: 2138\n",
      "ON: 933, OFF: 987, grid: 2084\n",
      "ON: 858, OFF: 929, grid: 2013\n",
      "ON: 861, OFF: 898, grid: 1976\n",
      "ON: 827, OFF: 898, grid: 1905\n",
      "ON: 828, OFF: 884, grid: 1849\n",
      "ON: 773, OFF: 815, grid: 1807\n",
      "ON: 786, OFF: 738, grid: 1855\n",
      "ON: 728, OFF: 841, grid: 1742\n",
      "ON: 698, OFF: 793, grid: 1647\n",
      "ON: 710, OFF: 772, grid: 1585\n",
      "ON: 673, OFF: 724, grid: 1534\n",
      "ON: 663, OFF: 696, grid: 1501\n",
      "ON: 638, OFF: 649, grid: 1490\n",
      "ON: 627, OFF: 650, grid: 1467\n",
      "ON: 628, OFF: 593, grid: 1502\n",
      "ON: 602, OFF: 650, grid: 1454\n",
      "ON: 556, OFF: 605, grid: 1405\n",
      "ON: 564, OFF: 582, grid: 1387\n",
      "ON: 553, OFF: 603, grid: 1337\n",
      "ON: 504, OFF: 602, grid: 1239\n",
      "ON: 508, OFF: 482, grid: 1265\n",
      "ON: 525, OFF: 539, grid: 1251\n",
      "ON: 501, OFF: 527, grid: 1225\n",
      "ON: 495, OFF: 541, grid: 1179\n",
      "ON: 486, OFF: 468, grid: 1197\n",
      "ON: 496, OFF: 482, grid: 1211\n",
      "ON: 508, OFF: 534, grid: 1185\n",
      "ON: 497, OFF: 471, grid: 1211\n",
      "ON: 502, OFF: 522, grid: 1191\n",
      "ON: 481, OFF: 470, grid: 1202\n",
      "ON: 470, OFF: 537, grid: 1135\n",
      "ON: 457, OFF: 452, grid: 1140\n",
      "ON: 413, OFF: 513, grid: 1040\n",
      "ON: 421, OFF: 371, grid: 1090\n",
      "ON: 424, OFF: 452, grid: 1062\n",
      "ON: 390, OFF: 425, grid: 1027\n",
      "ON: 443, OFF: 368, grid: 1102\n",
      "ON: 401, OFF: 467, grid: 1036\n",
      "ON: 429, OFF: 406, grid: 1059\n",
      "ON: 455, OFF: 450, grid: 1064\n",
      "ON: 402, OFF: 363, grid: 1103\n",
      "ON: 405, OFF: 478, grid: 1030\n",
      "ON: 406, OFF: 378, grid: 1058\n",
      "ON: 444, OFF: 396, grid: 1106\n",
      "ON: 418, OFF: 427, grid: 1097\n",
      "ON: 432, OFF: 418, grid: 1111\n",
      "ON: 429, OFF: 435, grid: 1105\n",
      "ON: 415, OFF: 404, grid: 1116\n",
      "ON: 426, OFF: 436, grid: 1106\n",
      "ON: 418, OFF: 426, grid: 1098\n",
      "ON: 387, OFF: 446, grid: 1039\n",
      "ON: 406, OFF: 359, grid: 1086\n",
      "ON: 401, OFF: 409, grid: 1078\n",
      "ON: 388, OFF: 425, grid: 1041\n",
      "ON: 415, OFF: 371, grid: 1085\n",
      "ON: 382, OFF: 413, grid: 1054\n",
      "ON: 395, OFF: 403, grid: 1046\n",
      "ON: 405, OFF: 411, grid: 1040\n",
      "ON: 367, OFF: 404, grid: 1003\n",
      "ON: 369, OFF: 402, grid: 970\n",
      "ON: 350, OFF: 336, grid: 984\n",
      "ON: 351, OFF: 338, grid: 997\n",
      "ON: 337, OFF: 351, grid: 983\n",
      "ON: 355, OFF: 338, grid: 1000\n",
      "ON: 343, OFF: 343, grid: 1000\n",
      "ON: 344, OFF: 367, grid: 977\n",
      "ON: 331, OFF: 365, grid: 943\n",
      "ON: 317, OFF: 333, grid: 927\n",
      "ON: 344, OFF: 303, grid: 968\n",
      "ON: 320, OFF: 336, grid: 952\n",
      "ON: 322, OFF: 316, grid: 958\n",
      "ON: 345, OFF: 328, grid: 975\n",
      "ON: 306, OFF: 363, grid: 918\n",
      "ON: 340, OFF: 349, grid: 909\n",
      "ON: 288, OFF: 327, grid: 870\n",
      "ON: 287, OFF: 285, grid: 872\n",
      "ON: 278, OFF: 284, grid: 866\n",
      "ON: 257, OFF: 295, grid: 828\n",
      "ON: 277, OFF: 242, grid: 863\n",
      "ON: 280, OFF: 270, grid: 873\n",
      "ON: 280, OFF: 281, grid: 872\n",
      "ON: 262, OFF: 286, grid: 848\n",
      "ON: 291, OFF: 291, grid: 848\n",
      "ON: 303, OFF: 253, grid: 898\n",
      "ON: 290, OFF: 320, grid: 868\n",
      "ON: 302, OFF: 274, grid: 896\n",
      "ON: 291, OFF: 318, grid: 869\n",
      "ON: 275, OFF: 329, grid: 815\n",
      "ON: 296, OFF: 260, grid: 851\n",
      "ON: 256, OFF: 292, grid: 815\n",
      "ON: 261, OFF: 260, grid: 816\n",
      "ON: 270, OFF: 287, grid: 799\n",
      "ON: 259, OFF: 244, grid: 814\n"
     ]
    }
   ],
   "source": [
    "track = np.zeros((100, 102, 102), dtype=int)\n",
    "padded_grid = np.zeros((102, 102), dtype=int)\n",
    "padded_grid[1:-1, 1:-1] = grid.copy()\n",
    "new_grid = padded_grid.copy()\n",
    "\n",
    "for step in range(100):\n",
    "    son = 0\n",
    "    soff= 0\n",
    "    new_grid = padded_grid.copy()\n",
    "    for i in range(1, 101):\n",
    "        for j in range(1, 101):\n",
    "            n = padded_grid[i - 1 : i + 2, j - 1: j + 2].sum() - padded_grid[i, j]\n",
    "            \n",
    "            if padded_grid[i, j] == 1:\n",
    "                if not (n == 2 or n == 3):\n",
    "                    soff += 1\n",
    "                    new_grid[i, j] = 0\n",
    "            else:\n",
    "                if n == 3:\n",
    "                    son += 1\n",
    "                    new_grid[i, j] = 1\n",
    "                        \n",
    "    track[step, :, :] = new_grid.copy()\n",
    "    padded_grid = new_grid.copy()\n",
    "    \n",
    "    print(f\"ON: {son}, OFF: {soff}, grid: {padded_grid.sum()}\")"
   ]
  },
  {
   "cell_type": "code",
   "execution_count": 194,
   "id": "2277303b",
   "metadata": {
    "scrolled": true
   },
   "outputs": [
    {
     "name": "stdout",
     "output_type": "stream",
     "text": [
      "ON: 1101, OFF: 3299, grid: 2805\n",
      "ON: 1274, OFF: 1459, grid: 2620\n",
      "ON: 1184, OFF: 1257, grid: 2547\n",
      "ON: 1130, OFF: 1186, grid: 2491\n",
      "ON: 1043, OFF: 1231, grid: 2303\n",
      "ON: 1080, OFF: 1061, grid: 2322\n",
      "ON: 963, OFF: 1143, grid: 2142\n",
      "ON: 929, OFF: 993, grid: 2078\n",
      "ON: 850, OFF: 922, grid: 2006\n",
      "ON: 852, OFF: 898, grid: 1960\n",
      "ON: 820, OFF: 884, grid: 1896\n",
      "ON: 814, OFF: 887, grid: 1823\n",
      "ON: 761, OFF: 801, grid: 1783\n",
      "ON: 770, OFF: 730, grid: 1823\n",
      "ON: 729, OFF: 819, grid: 1733\n",
      "ON: 695, OFF: 780, grid: 1648\n",
      "ON: 714, OFF: 765, grid: 1597\n",
      "ON: 680, OFF: 733, grid: 1544\n",
      "ON: 661, OFF: 704, grid: 1501\n",
      "ON: 636, OFF: 646, grid: 1491\n",
      "ON: 621, OFF: 658, grid: 1454\n",
      "ON: 624, OFF: 572, grid: 1506\n",
      "ON: 581, OFF: 652, grid: 1435\n",
      "ON: 542, OFF: 571, grid: 1406\n",
      "ON: 565, OFF: 576, grid: 1395\n",
      "ON: 551, OFF: 584, grid: 1362\n",
      "ON: 511, OFF: 598, grid: 1275\n",
      "ON: 512, OFF: 482, grid: 1305\n",
      "ON: 535, OFF: 555, grid: 1285\n",
      "ON: 514, OFF: 539, grid: 1260\n",
      "ON: 509, OFF: 548, grid: 1221\n",
      "ON: 506, OFF: 482, grid: 1245\n",
      "ON: 520, OFF: 494, grid: 1271\n",
      "ON: 513, OFF: 558, grid: 1226\n",
      "ON: 518, OFF: 486, grid: 1258\n",
      "ON: 520, OFF: 546, grid: 1232\n",
      "ON: 507, OFF: 499, grid: 1240\n",
      "ON: 487, OFF: 553, grid: 1174\n",
      "ON: 479, OFF: 483, grid: 1170\n",
      "ON: 419, OFF: 537, grid: 1052\n",
      "ON: 438, OFF: 374, grid: 1116\n",
      "ON: 432, OFF: 475, grid: 1073\n",
      "ON: 414, OFF: 417, grid: 1070\n",
      "ON: 454, OFF: 392, grid: 1132\n",
      "ON: 414, OFF: 481, grid: 1065\n",
      "ON: 435, OFF: 413, grid: 1087\n",
      "ON: 456, OFF: 457, grid: 1086\n",
      "ON: 410, OFF: 371, grid: 1125\n",
      "ON: 415, OFF: 477, grid: 1063\n",
      "ON: 421, OFF: 398, grid: 1086\n",
      "ON: 463, OFF: 412, grid: 1137\n",
      "ON: 434, OFF: 431, grid: 1140\n",
      "ON: 456, OFF: 433, grid: 1163\n",
      "ON: 455, OFF: 452, grid: 1166\n",
      "ON: 445, OFF: 405, grid: 1206\n",
      "ON: 469, OFF: 467, grid: 1208\n",
      "ON: 477, OFF: 475, grid: 1210\n",
      "ON: 429, OFF: 512, grid: 1127\n",
      "ON: 454, OFF: 396, grid: 1185\n",
      "ON: 428, OFF: 452, grid: 1161\n",
      "ON: 420, OFF: 447, grid: 1134\n",
      "ON: 460, OFF: 412, grid: 1182\n",
      "ON: 417, OFF: 469, grid: 1130\n",
      "ON: 443, OFF: 411, grid: 1162\n",
      "ON: 444, OFF: 469, grid: 1137\n",
      "ON: 410, OFF: 441, grid: 1106\n",
      "ON: 423, OFF: 442, grid: 1087\n",
      "ON: 407, OFF: 379, grid: 1115\n",
      "ON: 417, OFF: 395, grid: 1137\n",
      "ON: 411, OFF: 415, grid: 1133\n",
      "ON: 412, OFF: 421, grid: 1124\n",
      "ON: 422, OFF: 391, grid: 1155\n",
      "ON: 409, OFF: 450, grid: 1114\n",
      "ON: 407, OFF: 410, grid: 1111\n",
      "ON: 383, OFF: 452, grid: 1042\n",
      "ON: 407, OFF: 358, grid: 1091\n",
      "ON: 375, OFF: 391, grid: 1075\n",
      "ON: 394, OFF: 361, grid: 1108\n",
      "ON: 401, OFF: 435, grid: 1074\n",
      "ON: 350, OFF: 388, grid: 1036\n",
      "ON: 410, OFF: 367, grid: 1079\n",
      "ON: 351, OFF: 433, grid: 997\n",
      "ON: 357, OFF: 333, grid: 1021\n",
      "ON: 346, OFF: 380, grid: 987\n",
      "ON: 319, OFF: 350, grid: 956\n",
      "ON: 337, OFF: 313, grid: 980\n",
      "ON: 321, OFF: 321, grid: 980\n",
      "ON: 333, OFF: 315, grid: 998\n",
      "ON: 320, OFF: 337, grid: 981\n",
      "ON: 357, OFF: 354, grid: 984\n",
      "ON: 364, OFF: 330, grid: 1018\n",
      "ON: 342, OFF: 386, grid: 974\n",
      "ON: 347, OFF: 337, grid: 984\n",
      "ON: 334, OFF: 347, grid: 971\n",
      "ON: 300, OFF: 366, grid: 905\n",
      "ON: 325, OFF: 289, grid: 941\n",
      "ON: 281, OFF: 305, grid: 917\n",
      "ON: 291, OFF: 295, grid: 913\n",
      "ON: 291, OFF: 306, grid: 898\n",
      "ON: 292, OFF: 266, grid: 924\n"
     ]
    }
   ],
   "source": [
    "track = np.zeros((100, 102, 102), dtype=int)\n",
    "padded_grid = np.zeros((102, 102), dtype=int)\n",
    "padded_grid[1:-1, 1:-1] = grid.copy()\n",
    "padded_grid[1, 1] = 1\n",
    "padded_grid[1, -2] = 1\n",
    "padded_grid[-2, 1] = 1\n",
    "padded_grid[-2, -2] = 1\n",
    "new_grid = padded_grid.copy()\n",
    "\n",
    "for step in range(100):\n",
    "    son = 0\n",
    "    soff= 0\n",
    "    new_grid = padded_grid.copy()\n",
    "    for i in range(1, 101):\n",
    "        for j in range(1, 101):\n",
    "            if (i, j) in [(1, 1), (1, 100), (100, 1), (100, 100)]:\n",
    "                continue\n",
    "                \n",
    "            n = padded_grid[i - 1 : i + 2, j - 1: j + 2].sum() - padded_grid[i, j]\n",
    "            \n",
    "            if padded_grid[i, j] == 1:\n",
    "                if not (n == 2 or n == 3):\n",
    "                    soff += 1\n",
    "                    new_grid[i, j] = 0\n",
    "            else:\n",
    "                if n == 3:\n",
    "                    son += 1\n",
    "                    new_grid[i, j] = 1\n",
    "                        \n",
    "    track[step, :, :] = new_grid.copy()\n",
    "    padded_grid = new_grid.copy()\n",
    "    \n",
    "    print(f\"ON: {son}, OFF: {soff}, grid: {padded_grid.sum()}\")"
   ]
  },
  {
   "cell_type": "markdown",
   "id": "01ae0147",
   "metadata": {},
   "source": [
    "# Day 19"
   ]
  },
  {
   "cell_type": "code",
   "execution_count": 4,
   "id": "bc3c7289",
   "metadata": {},
   "outputs": [],
   "source": [
    "with open(\"data/adventofcode.com_2015_day_19_input.txt\") as fid:\n",
    "    content = fid.read()"
   ]
  },
  {
   "cell_type": "code",
   "execution_count": 95,
   "id": "916f24d0",
   "metadata": {},
   "outputs": [],
   "source": [
    "def read(s):\n",
    "    return [i.strip() for i in open(s, 'r')]\n",
    "lines = read(\"data/adventofcode.com_2015_day_19_input.txt\")\n",
    "\n",
    "replacements = []\n",
    "for i in lines[:-2]:\n",
    "    m = re.findall(r'(\\S+) => (\\S+)', i)\n",
    "    replacements.append(m[0])\n",
    "X = lines[-1]"
   ]
  },
  {
   "cell_type": "code",
   "execution_count": 98,
   "id": "7d1e03be",
   "metadata": {},
   "outputs": [
    {
     "data": {
      "text/plain": [
       "576"
      ]
     },
     "execution_count": 98,
     "metadata": {},
     "output_type": "execute_result"
    }
   ],
   "source": [
    "S = set()\n",
    "for i, j in replacements:\n",
    "    for k in range(len(X)):\n",
    "        if X[k:k+len(i)] == i:\n",
    "            y = X[:k] + j + X[k+len(i):]\n",
    "            S.add(y)\n",
    "len(S)"
   ]
  },
  {
   "cell_type": "code",
   "execution_count": 105,
   "id": "1028a45b",
   "metadata": {},
   "outputs": [
    {
     "name": "stdout",
     "output_type": "stream",
     "text": [
      "207\n"
     ]
    }
   ],
   "source": [
    "from random import shuffle\n",
    "\n",
    "reps = replacements\n",
    "mol = X\n",
    "\n",
    "target = mol\n",
    "part2 = 0\n",
    "\n",
    "while target != 'e':\n",
    "    tmp = target\n",
    "    for a, b in reps:\n",
    "        if b not in target:\n",
    "            continue\n",
    "\n",
    "        target = target.replace(b, a, 1)\n",
    "        part2 += 1\n",
    "\n",
    "    if tmp == target:\n",
    "        target = mol\n",
    "        part2 = 0\n",
    "        shuffle(reps)\n",
    "\n",
    "print(part2)"
   ]
  },
  {
   "cell_type": "markdown",
   "id": "80cedd9d",
   "metadata": {},
   "source": [
    "# Day 20"
   ]
  },
  {
   "cell_type": "code",
   "execution_count": 6,
   "id": "bdb4ec0a",
   "metadata": {},
   "outputs": [],
   "source": [
    "def algo20():\n",
    "    nbpresent = 34000000\n",
    "    \n",
    "    house = np.zeros((34000000), dtype=np.int32)\n",
    "    for i in range(1, nbpresent // 10):\n",
    "        count = 0\n",
    "        for j in range(i, nbpresent // 10, i):\n",
    "            count += 1\n",
    "            house[j] += i * 11\n",
    "            if count > 50:\n",
    "                break\n",
    "            \n",
    "    return house"
   ]
  },
  {
   "cell_type": "code",
   "execution_count": 7,
   "id": "51e65bb1",
   "metadata": {},
   "outputs": [],
   "source": [
    "h = algo20()"
   ]
  },
  {
   "cell_type": "code",
   "execution_count": 8,
   "id": "07c7a687",
   "metadata": {},
   "outputs": [
    {
     "data": {
      "text/plain": [
       "831600"
      ]
     },
     "execution_count": 8,
     "metadata": {},
     "output_type": "execute_result"
    }
   ],
   "source": [
    "np.min(np.where(h >= 34000000)[0])"
   ]
  },
  {
   "cell_type": "markdown",
   "id": "3bb8e34a",
   "metadata": {},
   "source": [
    "# Day 21"
   ]
  },
  {
   "cell_type": "code",
   "execution_count": 90,
   "id": "bd5d191e",
   "metadata": {},
   "outputs": [],
   "source": [
    "from typing import Dict\n",
    "from itertools import permutations, product"
   ]
  },
  {
   "cell_type": "code",
   "execution_count": 25,
   "id": "f33aad65",
   "metadata": {},
   "outputs": [],
   "source": [
    "Weapons = {}\n",
    "Weapons[\"Dagger\"] = {\"cost\": 8, \"dmg\": 4, \"armor\": 0}\n",
    "Weapons[\"Shortsword\"] = {\"cost\": 10, \"dmg\": 5, \"armor\": 0}\n",
    "Weapons[\"Warhammer\"] = {\"cost\": 25, \"dmg\": 6, \"armor\": 0}\n",
    "Weapons[\"Longsword\"] = {\"cost\": 40, \"dmg\": 7, \"armor\": 0}\n",
    "Weapons[\"Greataxe\"] = {\"cost\": 74, \"dmg\": 8, \"armor\": 0}\n",
    "\n",
    "Armor = {}\n",
    "Armor[\"Leather\"] = {\"cost\": 13, \"dmg\": 0, \"armor\": 1}\n",
    "Armor[\"Chainmail\"] = {\"cost\": 31, \"dmg\": 0, \"armor\": 2}\n",
    "Armor[\"Splintmail\"] = {\"cost\": 53, \"dmg\": 0, \"armor\": 3}\n",
    "Armor[\"Bandedmail\"] = {\"cost\": 75, \"dmg\": 0, \"armor\": 4}\n",
    "Armor[\"Platemail\"] = {\"cost\": 102, \"dmg\": 0, \"armor\": 5}\n",
    "\n",
    "Rings = {}\n",
    "Rings[\"Damage1\"] = {\"cost\": 25, \"dmg\": 1, \"armor\": 0}\n",
    "Rings[\"Damage2\"] = {\"cost\": 50, \"dmg\": 2, \"armor\": 0}\n",
    "Rings[\"Damage3\"] = {\"cost\": 100, \"dmg\": 3, \"armor\": 0}\n",
    "Rings[\"Defense1\"] = {\"cost\": 20, \"dmg\": 0, \"armor\": 1}\n",
    "Rings[\"Defense2\"] = {\"cost\": 40, \"dmg\": 0, \"armor\": 2}\n",
    "Rings[\"Defense3\"] = {\"cost\": 80, \"dmg\": 0, \"armor\": 3}"
   ]
  },
  {
   "cell_type": "code",
   "execution_count": 102,
   "id": "5f785244",
   "metadata": {},
   "outputs": [],
   "source": [
    "class Character:\n",
    "    def __init__(self, name, hp=100, attack=0, armor=0):\n",
    "        self.name = name\n",
    "        self.hp = hp\n",
    "        self.attack = attack\n",
    "        self.armor = armor\n",
    "        self.gear = []\n",
    "        self.gold_value = 0\n",
    "        self.is_alive = True\n",
    "        \n",
    "    def set_armor(self, armor):\n",
    "        self.armor = armor\n",
    "        \n",
    "    def set_attack(self, attack):\n",
    "        self.attack = attack\n",
    "        \n",
    "    def set_equipment(self, name, equip: Dict):\n",
    "        self.gold_value += equip[\"cost\"]\n",
    "        self.attack += equip[\"dmg\"]\n",
    "        self.armor += equip[\"armor\"]\n",
    "        self.gear.append(name)\n",
    "#         self.print_stat()\n",
    "        \n",
    "    def get_attack(self):\n",
    "        return self.attack\n",
    "    \n",
    "    def get_hit(self, char: Character):\n",
    "        if not self.is_alive:\n",
    "            raise ValueError(\"Game Over.\")\n",
    "            \n",
    "        total = char.attack - self.armor\n",
    "        if total < 1:\n",
    "            total = 1\n",
    "        self.hp -= total\n",
    "#         print(f\"{char.name} deals {char.attack}-{self.armor}={total} damage; {self.name} goes down to {self.hp} hit points\")\n",
    "        self.check_alive()\n",
    "        \n",
    "    def print_stat(self):\n",
    "        print(f\"{self.name} has {len(self.gear)} pieces of gear: {', '.join(self.gear)} for {self.attack} attack, {self.armor} armor and a value of {self.gold_value} gils.\")\n",
    "        \n",
    "    def check_alive(self):\n",
    "        if self.hp <= 0:\n",
    "            print(f\"{self.name} is dead!\")\n",
    "            self.is_alive = False\n",
    "            "
   ]
  },
  {
   "cell_type": "code",
   "execution_count": 103,
   "id": "d37bfb7e",
   "metadata": {},
   "outputs": [],
   "source": [
    "you = Character(\"Player\", 100, 0, 0)\n",
    "boss = Character(\"Boss\", 109, 8, 2)"
   ]
  },
  {
   "cell_type": "code",
   "execution_count": 128,
   "id": "b71e4fd9",
   "metadata": {},
   "outputs": [],
   "source": [
    "rings = [*permutations(Rings.keys(), 0)]\n",
    "rings.extend([*permutations(Rings.keys(), 1)])\n",
    "rings.extend([*permutations(Rings.keys(), 2)])\n",
    "store = [*product(Weapons.keys(), [\"\", *Armor.keys()], rings)]"
   ]
  },
  {
   "cell_type": "code",
   "execution_count": 129,
   "id": "66f7f13a",
   "metadata": {},
   "outputs": [
    {
     "name": "stdout",
     "output_type": "stream",
     "text": [
      "Player is dead!\n",
      "Player is dead!\n",
      "Player is dead!\n",
      "Player is dead!\n",
      "Player is dead!\n",
      "Player is dead!\n",
      "Player is dead!\n",
      "Player is dead!\n",
      "Player is dead!\n",
      "Player is dead!\n",
      "Player is dead!\n",
      "Player is dead!\n",
      "Player is dead!\n",
      "Player is dead!\n",
      "Player is dead!\n",
      "Player is dead!\n",
      "Player is dead!\n",
      "Player is dead!\n",
      "Player is dead!\n",
      "Player is dead!\n",
      "Player is dead!\n",
      "Player is dead!\n",
      "Player is dead!\n",
      "Player is dead!\n",
      "Player is dead!\n",
      "Player is dead!\n",
      "Player is dead!\n",
      "Player is dead!\n",
      "Player is dead!\n",
      "Player is dead!\n",
      "Player is dead!\n",
      "Player is dead!\n",
      "Player is dead!\n",
      "Player is dead!\n",
      "Player is dead!\n",
      "Player is dead!\n",
      "Player is dead!\n",
      "Player is dead!\n",
      "Player is dead!\n",
      "Player is dead!\n",
      "Player is dead!\n",
      "Player is dead!\n",
      "Player is dead!\n",
      "Player is dead!\n",
      "Player is dead!\n",
      "Player is dead!\n",
      "Player is dead!\n",
      "Player is dead!\n",
      "Player is dead!\n",
      "Player is dead!\n",
      "Player is dead!\n",
      "Player is dead!\n",
      "Player is dead!\n",
      "Player is dead!\n",
      "Player is dead!\n",
      "Player is dead!\n",
      "Player is dead!\n",
      "Player is dead!\n",
      "Boss is dead!\n",
      "Player is dead!\n",
      "Player is dead!\n",
      "Player is dead!\n",
      "Player is dead!\n",
      "Player is dead!\n",
      "Player is dead!\n",
      "Player is dead!\n",
      "Player is dead!\n",
      "Player is dead!\n",
      "Player is dead!\n",
      "Player is dead!\n",
      "Player is dead!\n",
      "Boss is dead!\n",
      "Player is dead!\n",
      "Player is dead!\n",
      "Player is dead!\n",
      "Player is dead!\n",
      "Player is dead!\n",
      "Player is dead!\n",
      "Player is dead!\n",
      "Player is dead!\n",
      "Player is dead!\n",
      "Player is dead!\n",
      "Player is dead!\n",
      "Player is dead!\n",
      "Player is dead!\n",
      "Player is dead!\n",
      "Player is dead!\n",
      "Boss is dead!\n",
      "Player is dead!\n",
      "Player is dead!\n",
      "Boss is dead!\n",
      "Player is dead!\n",
      "Boss is dead!\n",
      "Player is dead!\n",
      "Boss is dead!\n",
      "Boss is dead!\n",
      "Player is dead!\n",
      "Player is dead!\n",
      "Player is dead!\n",
      "Player is dead!\n",
      "Player is dead!\n",
      "Player is dead!\n",
      "Player is dead!\n",
      "Boss is dead!\n",
      "Player is dead!\n",
      "Boss is dead!\n",
      "Player is dead!\n",
      "Boss is dead!\n",
      "Boss is dead!\n",
      "Player is dead!\n",
      "Boss is dead!\n",
      "Player is dead!\n",
      "Player is dead!\n",
      "Player is dead!\n",
      "Player is dead!\n",
      "Player is dead!\n",
      "Player is dead!\n",
      "Player is dead!\n",
      "Player is dead!\n",
      "Boss is dead!\n",
      "Player is dead!\n",
      "Player is dead!\n",
      "Boss is dead!\n",
      "Player is dead!\n",
      "Boss is dead!\n",
      "Player is dead!\n",
      "Boss is dead!\n",
      "Boss is dead!\n",
      "Boss is dead!\n",
      "Boss is dead!\n",
      "Boss is dead!\n",
      "Boss is dead!\n",
      "Boss is dead!\n",
      "Player is dead!\n",
      "Player is dead!\n",
      "Boss is dead!\n",
      "Player is dead!\n",
      "Boss is dead!\n",
      "Player is dead!\n",
      "Boss is dead!\n",
      "Boss is dead!\n",
      "Player is dead!\n",
      "Boss is dead!\n",
      "Boss is dead!\n",
      "Boss is dead!\n",
      "Boss is dead!\n",
      "Boss is dead!\n",
      "Boss is dead!\n",
      "Player is dead!\n",
      "Player is dead!\n",
      "Player is dead!\n",
      "Boss is dead!\n",
      "Player is dead!\n",
      "Player is dead!\n",
      "Boss is dead!\n",
      "Boss is dead!\n",
      "Boss is dead!\n",
      "Player is dead!\n",
      "Boss is dead!\n",
      "Boss is dead!\n",
      "Boss is dead!\n",
      "Boss is dead!\n",
      "Boss is dead!\n",
      "Boss is dead!\n",
      "Boss is dead!\n",
      "Boss is dead!\n",
      "Boss is dead!\n",
      "Boss is dead!\n",
      "Boss is dead!\n",
      "Boss is dead!\n",
      "Player is dead!\n",
      "Boss is dead!\n",
      "Boss is dead!\n",
      "Boss is dead!\n",
      "Boss is dead!\n",
      "Boss is dead!\n",
      "Boss is dead!\n",
      "Boss is dead!\n",
      "Boss is dead!\n",
      "Boss is dead!\n",
      "Boss is dead!\n",
      "Boss is dead!\n",
      "Boss is dead!\n",
      "Boss is dead!\n",
      "Boss is dead!\n",
      "Player is dead!\n",
      "Player is dead!\n",
      "Boss is dead!\n",
      "Boss is dead!\n",
      "Player is dead!\n",
      "Boss is dead!\n",
      "Boss is dead!\n",
      "Boss is dead!\n",
      "Boss is dead!\n",
      "Boss is dead!\n",
      "Boss is dead!\n",
      "Boss is dead!\n",
      "Boss is dead!\n",
      "Boss is dead!\n",
      "Boss is dead!\n",
      "Boss is dead!\n",
      "Boss is dead!\n",
      "Boss is dead!\n",
      "Boss is dead!\n",
      "Boss is dead!\n",
      "Boss is dead!\n",
      "Boss is dead!\n",
      "Boss is dead!\n",
      "Boss is dead!\n",
      "Boss is dead!\n",
      "Boss is dead!\n",
      "Boss is dead!\n",
      "Boss is dead!\n",
      "Boss is dead!\n",
      "Boss is dead!\n",
      "Boss is dead!\n",
      "Boss is dead!\n",
      "Boss is dead!\n",
      "Boss is dead!\n",
      "Boss is dead!\n",
      "Boss is dead!\n",
      "Boss is dead!\n",
      "Player is dead!\n",
      "Player is dead!\n",
      "Player is dead!\n",
      "Player is dead!\n",
      "Player is dead!\n",
      "Player is dead!\n",
      "Player is dead!\n",
      "Player is dead!\n",
      "Player is dead!\n",
      "Player is dead!\n",
      "Player is dead!\n",
      "Player is dead!\n",
      "Player is dead!\n",
      "Player is dead!\n",
      "Player is dead!\n",
      "Player is dead!\n",
      "Player is dead!\n",
      "Player is dead!\n",
      "Player is dead!\n",
      "Player is dead!\n",
      "Player is dead!\n",
      "Boss is dead!\n",
      "Player is dead!\n",
      "Player is dead!\n",
      "Player is dead!\n",
      "Player is dead!\n",
      "Player is dead!\n",
      "Player is dead!\n",
      "Player is dead!\n",
      "Player is dead!\n",
      "Player is dead!\n",
      "Player is dead!\n",
      "Player is dead!\n",
      "Player is dead!\n",
      "Boss is dead!\n",
      "Player is dead!\n",
      "Player is dead!\n",
      "Player is dead!\n",
      "Player is dead!\n",
      "Player is dead!\n",
      "Player is dead!\n",
      "Player is dead!\n",
      "Player is dead!\n",
      "Player is dead!\n",
      "Player is dead!\n",
      "Player is dead!\n",
      "Player is dead!\n",
      "Player is dead!\n",
      "Player is dead!\n",
      "Player is dead!\n",
      "Boss is dead!\n",
      "Player is dead!\n",
      "Player is dead!\n",
      "Boss is dead!\n",
      "Player is dead!\n",
      "Boss is dead!\n",
      "Player is dead!\n",
      "Boss is dead!\n",
      "Boss is dead!\n",
      "Player is dead!\n",
      "Player is dead!\n",
      "Player is dead!\n",
      "Player is dead!\n",
      "Player is dead!\n",
      "Player is dead!\n",
      "Player is dead!\n",
      "Boss is dead!\n",
      "Player is dead!\n",
      "Boss is dead!\n",
      "Player is dead!\n",
      "Boss is dead!\n",
      "Boss is dead!\n",
      "Player is dead!\n",
      "Boss is dead!\n",
      "Player is dead!\n",
      "Player is dead!\n",
      "Player is dead!\n",
      "Player is dead!\n",
      "Player is dead!\n",
      "Player is dead!\n",
      "Player is dead!\n",
      "Player is dead!\n",
      "Boss is dead!\n",
      "Player is dead!\n",
      "Player is dead!\n",
      "Boss is dead!\n",
      "Player is dead!\n",
      "Boss is dead!\n",
      "Player is dead!\n",
      "Boss is dead!\n",
      "Boss is dead!\n",
      "Boss is dead!\n",
      "Boss is dead!\n",
      "Boss is dead!\n",
      "Boss is dead!\n",
      "Boss is dead!\n",
      "Player is dead!\n",
      "Player is dead!\n",
      "Boss is dead!\n",
      "Player is dead!\n",
      "Boss is dead!\n",
      "Player is dead!\n",
      "Boss is dead!\n",
      "Boss is dead!\n",
      "Player is dead!\n",
      "Boss is dead!\n",
      "Boss is dead!\n",
      "Boss is dead!\n",
      "Boss is dead!\n",
      "Boss is dead!\n",
      "Boss is dead!\n",
      "Player is dead!\n",
      "Player is dead!\n",
      "Player is dead!\n",
      "Boss is dead!\n",
      "Player is dead!\n",
      "Player is dead!\n",
      "Boss is dead!\n",
      "Boss is dead!\n",
      "Boss is dead!\n",
      "Player is dead!\n",
      "Boss is dead!\n",
      "Boss is dead!\n",
      "Boss is dead!\n",
      "Boss is dead!\n",
      "Boss is dead!\n",
      "Boss is dead!\n",
      "Boss is dead!\n",
      "Boss is dead!\n",
      "Boss is dead!\n",
      "Boss is dead!\n",
      "Boss is dead!\n",
      "Boss is dead!\n",
      "Player is dead!\n",
      "Boss is dead!\n",
      "Boss is dead!\n",
      "Boss is dead!\n",
      "Boss is dead!\n",
      "Boss is dead!\n",
      "Boss is dead!\n",
      "Boss is dead!\n",
      "Boss is dead!\n",
      "Boss is dead!\n",
      "Boss is dead!\n",
      "Boss is dead!\n",
      "Boss is dead!\n",
      "Boss is dead!\n",
      "Boss is dead!\n",
      "Player is dead!\n",
      "Player is dead!\n",
      "Boss is dead!\n",
      "Boss is dead!\n",
      "Player is dead!\n",
      "Boss is dead!\n",
      "Boss is dead!\n",
      "Boss is dead!\n",
      "Boss is dead!\n",
      "Boss is dead!\n",
      "Boss is dead!\n",
      "Boss is dead!\n",
      "Boss is dead!\n",
      "Boss is dead!\n",
      "Boss is dead!\n",
      "Boss is dead!\n",
      "Boss is dead!\n",
      "Boss is dead!\n",
      "Boss is dead!\n",
      "Boss is dead!\n",
      "Boss is dead!\n",
      "Boss is dead!\n",
      "Boss is dead!\n",
      "Boss is dead!\n",
      "Boss is dead!\n",
      "Boss is dead!\n",
      "Boss is dead!\n",
      "Boss is dead!\n",
      "Boss is dead!\n",
      "Boss is dead!\n",
      "Boss is dead!\n",
      "Boss is dead!\n",
      "Boss is dead!\n",
      "Boss is dead!\n",
      "Boss is dead!\n",
      "Boss is dead!\n",
      "Boss is dead!\n",
      "Player is dead!\n",
      "Boss is dead!\n",
      "Boss is dead!\n",
      "Boss is dead!\n",
      "Boss is dead!\n",
      "Boss is dead!\n",
      "Boss is dead!\n",
      "Boss is dead!\n",
      "Boss is dead!\n",
      "Boss is dead!\n",
      "Boss is dead!\n",
      "Boss is dead!\n",
      "Boss is dead!\n",
      "Boss is dead!\n",
      "Boss is dead!\n",
      "Boss is dead!\n",
      "Boss is dead!\n",
      "Boss is dead!\n",
      "Boss is dead!\n",
      "Boss is dead!\n",
      "Boss is dead!\n",
      "Boss is dead!\n",
      "Boss is dead!\n",
      "Boss is dead!\n",
      "Boss is dead!\n",
      "Boss is dead!\n",
      "Boss is dead!\n",
      "Boss is dead!\n",
      "Boss is dead!\n",
      "Boss is dead!\n",
      "Boss is dead!\n",
      "Boss is dead!\n",
      "Boss is dead!\n",
      "Boss is dead!\n",
      "Boss is dead!\n",
      "Boss is dead!\n",
      "Boss is dead!\n",
      "Player is dead!\n",
      "Player is dead!\n",
      "Player is dead!\n",
      "Player is dead!\n",
      "Player is dead!\n",
      "Player is dead!\n",
      "Player is dead!\n",
      "Player is dead!\n",
      "Player is dead!\n",
      "Player is dead!\n",
      "Player is dead!\n",
      "Player is dead!\n",
      "Player is dead!\n",
      "Boss is dead!\n",
      "Player is dead!\n",
      "Player is dead!\n",
      "Boss is dead!\n",
      "Player is dead!\n",
      "Boss is dead!\n",
      "Player is dead!\n",
      "Boss is dead!\n",
      "Boss is dead!\n",
      "Player is dead!\n",
      "Player is dead!\n",
      "Player is dead!\n",
      "Player is dead!\n",
      "Player is dead!\n",
      "Player is dead!\n",
      "Player is dead!\n",
      "Boss is dead!\n",
      "Player is dead!\n",
      "Boss is dead!\n",
      "Player is dead!\n",
      "Boss is dead!\n",
      "Boss is dead!\n",
      "Player is dead!\n",
      "Boss is dead!\n",
      "Player is dead!\n",
      "Player is dead!\n",
      "Player is dead!\n",
      "Player is dead!\n",
      "Player is dead!\n",
      "Player is dead!\n",
      "Player is dead!\n",
      "Player is dead!\n",
      "Boss is dead!\n",
      "Player is dead!\n",
      "Player is dead!\n",
      "Boss is dead!\n",
      "Player is dead!\n",
      "Boss is dead!\n",
      "Player is dead!\n",
      "Boss is dead!\n",
      "Boss is dead!\n",
      "Boss is dead!\n",
      "Boss is dead!\n",
      "Boss is dead!\n",
      "Boss is dead!\n",
      "Boss is dead!\n",
      "Player is dead!\n",
      "Player is dead!\n",
      "Boss is dead!\n",
      "Player is dead!\n",
      "Boss is dead!\n",
      "Player is dead!\n",
      "Boss is dead!\n",
      "Boss is dead!\n",
      "Player is dead!\n",
      "Boss is dead!\n",
      "Boss is dead!\n",
      "Boss is dead!\n",
      "Boss is dead!\n",
      "Boss is dead!\n",
      "Boss is dead!\n",
      "Player is dead!\n",
      "Player is dead!\n",
      "Player is dead!\n",
      "Boss is dead!\n",
      "Player is dead!\n",
      "Player is dead!\n",
      "Boss is dead!\n",
      "Boss is dead!\n",
      "Boss is dead!\n",
      "Player is dead!\n",
      "Boss is dead!\n",
      "Boss is dead!\n",
      "Boss is dead!\n",
      "Boss is dead!\n",
      "Boss is dead!\n",
      "Boss is dead!\n",
      "Boss is dead!\n",
      "Boss is dead!\n",
      "Boss is dead!\n",
      "Boss is dead!\n",
      "Boss is dead!\n",
      "Boss is dead!\n",
      "Player is dead!\n",
      "Boss is dead!\n",
      "Boss is dead!\n",
      "Boss is dead!\n",
      "Boss is dead!\n",
      "Boss is dead!\n",
      "Boss is dead!\n",
      "Boss is dead!\n",
      "Boss is dead!\n",
      "Boss is dead!\n",
      "Boss is dead!\n",
      "Boss is dead!\n",
      "Boss is dead!\n",
      "Boss is dead!\n",
      "Boss is dead!\n",
      "Player is dead!\n",
      "Player is dead!\n",
      "Boss is dead!\n",
      "Boss is dead!\n",
      "Player is dead!\n",
      "Boss is dead!\n",
      "Boss is dead!\n",
      "Boss is dead!\n",
      "Boss is dead!\n",
      "Boss is dead!\n",
      "Boss is dead!\n",
      "Boss is dead!\n",
      "Boss is dead!\n",
      "Boss is dead!\n",
      "Boss is dead!\n",
      "Boss is dead!\n",
      "Boss is dead!\n",
      "Boss is dead!\n",
      "Boss is dead!\n",
      "Boss is dead!\n",
      "Boss is dead!\n",
      "Boss is dead!\n",
      "Boss is dead!\n",
      "Boss is dead!\n",
      "Boss is dead!\n",
      "Boss is dead!\n",
      "Boss is dead!\n",
      "Boss is dead!\n",
      "Boss is dead!\n",
      "Boss is dead!\n",
      "Boss is dead!\n",
      "Boss is dead!\n",
      "Boss is dead!\n",
      "Boss is dead!\n",
      "Boss is dead!\n",
      "Boss is dead!\n",
      "Boss is dead!\n",
      "Player is dead!\n",
      "Boss is dead!\n",
      "Boss is dead!\n",
      "Boss is dead!\n",
      "Boss is dead!\n",
      "Boss is dead!\n",
      "Boss is dead!\n",
      "Boss is dead!\n",
      "Boss is dead!\n",
      "Boss is dead!\n",
      "Boss is dead!\n",
      "Boss is dead!\n",
      "Boss is dead!\n",
      "Boss is dead!\n",
      "Boss is dead!\n",
      "Boss is dead!\n",
      "Boss is dead!\n",
      "Boss is dead!\n",
      "Boss is dead!\n",
      "Boss is dead!\n",
      "Boss is dead!\n",
      "Boss is dead!\n",
      "Boss is dead!\n",
      "Boss is dead!\n",
      "Boss is dead!\n",
      "Boss is dead!\n",
      "Boss is dead!\n",
      "Boss is dead!\n",
      "Boss is dead!\n",
      "Boss is dead!\n",
      "Boss is dead!\n",
      "Boss is dead!\n",
      "Boss is dead!\n",
      "Boss is dead!\n",
      "Boss is dead!\n",
      "Boss is dead!\n",
      "Boss is dead!\n",
      "Boss is dead!\n",
      "Boss is dead!\n",
      "Boss is dead!\n",
      "Boss is dead!\n",
      "Boss is dead!\n",
      "Boss is dead!\n",
      "Boss is dead!\n",
      "Boss is dead!\n",
      "Boss is dead!\n",
      "Boss is dead!\n",
      "Boss is dead!\n",
      "Boss is dead!\n",
      "Boss is dead!\n",
      "Boss is dead!\n",
      "Boss is dead!\n",
      "Boss is dead!\n",
      "Boss is dead!\n",
      "Boss is dead!\n",
      "Boss is dead!\n",
      "Boss is dead!\n",
      "Boss is dead!\n",
      "Boss is dead!\n",
      "Boss is dead!\n",
      "Boss is dead!\n",
      "Boss is dead!\n",
      "Boss is dead!\n",
      "Boss is dead!\n",
      "Boss is dead!\n",
      "Boss is dead!\n",
      "Boss is dead!\n",
      "Boss is dead!\n",
      "Boss is dead!\n",
      "Boss is dead!\n",
      "Boss is dead!\n",
      "Boss is dead!\n",
      "Boss is dead!\n",
      "Boss is dead!\n",
      "Player is dead!\n",
      "Player is dead!\n",
      "Player is dead!\n",
      "Player is dead!\n",
      "Player is dead!\n",
      "Player is dead!\n",
      "Player is dead!\n",
      "Player is dead!\n",
      "Boss is dead!\n",
      "Player is dead!\n",
      "Player is dead!\n",
      "Boss is dead!\n",
      "Player is dead!\n",
      "Boss is dead!\n",
      "Player is dead!\n",
      "Boss is dead!\n",
      "Boss is dead!\n",
      "Boss is dead!\n",
      "Boss is dead!\n",
      "Boss is dead!\n",
      "Boss is dead!\n",
      "Boss is dead!\n",
      "Player is dead!\n",
      "Player is dead!\n",
      "Boss is dead!\n",
      "Player is dead!\n",
      "Boss is dead!\n",
      "Player is dead!\n",
      "Boss is dead!\n",
      "Boss is dead!\n",
      "Player is dead!\n",
      "Boss is dead!\n",
      "Boss is dead!\n",
      "Boss is dead!\n",
      "Boss is dead!\n",
      "Boss is dead!\n",
      "Boss is dead!\n",
      "Player is dead!\n",
      "Player is dead!\n",
      "Player is dead!\n",
      "Boss is dead!\n",
      "Player is dead!\n",
      "Player is dead!\n",
      "Boss is dead!\n",
      "Boss is dead!\n",
      "Boss is dead!\n",
      "Player is dead!\n",
      "Boss is dead!\n",
      "Boss is dead!\n",
      "Boss is dead!\n",
      "Boss is dead!\n",
      "Boss is dead!\n",
      "Boss is dead!\n",
      "Boss is dead!\n",
      "Boss is dead!\n",
      "Boss is dead!\n",
      "Boss is dead!\n",
      "Boss is dead!\n",
      "Boss is dead!\n",
      "Player is dead!\n",
      "Boss is dead!\n",
      "Boss is dead!\n",
      "Boss is dead!\n",
      "Boss is dead!\n",
      "Boss is dead!\n",
      "Boss is dead!\n",
      "Boss is dead!\n",
      "Boss is dead!\n",
      "Boss is dead!\n",
      "Boss is dead!\n",
      "Boss is dead!\n",
      "Boss is dead!\n",
      "Boss is dead!\n",
      "Boss is dead!\n",
      "Player is dead!\n",
      "Player is dead!\n",
      "Boss is dead!\n",
      "Boss is dead!\n",
      "Player is dead!\n",
      "Boss is dead!\n",
      "Boss is dead!\n",
      "Boss is dead!\n",
      "Boss is dead!\n",
      "Boss is dead!\n",
      "Boss is dead!\n",
      "Boss is dead!\n",
      "Boss is dead!\n",
      "Boss is dead!\n",
      "Boss is dead!\n",
      "Boss is dead!\n",
      "Boss is dead!\n",
      "Boss is dead!\n",
      "Boss is dead!\n",
      "Boss is dead!\n",
      "Boss is dead!\n",
      "Boss is dead!\n",
      "Boss is dead!\n",
      "Boss is dead!\n",
      "Boss is dead!\n",
      "Boss is dead!\n",
      "Boss is dead!\n",
      "Boss is dead!\n",
      "Boss is dead!\n",
      "Boss is dead!\n",
      "Boss is dead!\n",
      "Boss is dead!\n",
      "Boss is dead!\n",
      "Boss is dead!\n",
      "Boss is dead!\n",
      "Boss is dead!\n",
      "Boss is dead!\n",
      "Player is dead!\n",
      "Boss is dead!\n",
      "Boss is dead!\n",
      "Boss is dead!\n",
      "Boss is dead!\n",
      "Boss is dead!\n",
      "Boss is dead!\n",
      "Boss is dead!\n",
      "Boss is dead!\n",
      "Boss is dead!\n",
      "Boss is dead!\n",
      "Boss is dead!\n",
      "Boss is dead!\n",
      "Boss is dead!\n",
      "Boss is dead!\n",
      "Boss is dead!\n",
      "Boss is dead!\n",
      "Boss is dead!\n",
      "Boss is dead!\n",
      "Boss is dead!\n",
      "Boss is dead!\n",
      "Boss is dead!\n",
      "Boss is dead!\n",
      "Boss is dead!\n",
      "Boss is dead!\n",
      "Boss is dead!\n",
      "Boss is dead!\n",
      "Boss is dead!\n",
      "Boss is dead!\n",
      "Boss is dead!\n",
      "Boss is dead!\n",
      "Boss is dead!\n",
      "Boss is dead!\n",
      "Boss is dead!\n",
      "Boss is dead!\n",
      "Boss is dead!\n",
      "Boss is dead!\n",
      "Boss is dead!\n",
      "Boss is dead!\n",
      "Boss is dead!\n",
      "Boss is dead!\n",
      "Boss is dead!\n",
      "Boss is dead!\n",
      "Boss is dead!\n",
      "Boss is dead!\n",
      "Boss is dead!\n",
      "Boss is dead!\n",
      "Boss is dead!\n",
      "Boss is dead!\n",
      "Boss is dead!\n",
      "Boss is dead!\n",
      "Boss is dead!\n",
      "Boss is dead!\n",
      "Boss is dead!\n",
      "Boss is dead!\n",
      "Boss is dead!\n",
      "Boss is dead!\n",
      "Boss is dead!\n",
      "Boss is dead!\n",
      "Boss is dead!\n",
      "Boss is dead!\n",
      "Boss is dead!\n",
      "Boss is dead!\n",
      "Boss is dead!\n",
      "Boss is dead!\n",
      "Boss is dead!\n",
      "Boss is dead!\n",
      "Boss is dead!\n",
      "Boss is dead!\n",
      "Boss is dead!\n",
      "Boss is dead!\n",
      "Boss is dead!\n",
      "Boss is dead!\n",
      "Boss is dead!\n",
      "Boss is dead!\n",
      "Boss is dead!\n",
      "Boss is dead!\n",
      "Boss is dead!\n",
      "Boss is dead!\n",
      "Boss is dead!\n",
      "Boss is dead!\n",
      "Boss is dead!\n",
      "Boss is dead!\n",
      "Boss is dead!\n",
      "Boss is dead!\n",
      "Boss is dead!\n",
      "Boss is dead!\n",
      "Boss is dead!\n",
      "Boss is dead!\n",
      "Boss is dead!\n",
      "Boss is dead!\n",
      "Boss is dead!\n",
      "Boss is dead!\n",
      "Boss is dead!\n",
      "Boss is dead!\n",
      "Boss is dead!\n",
      "Boss is dead!\n",
      "Boss is dead!\n",
      "Boss is dead!\n",
      "Boss is dead!\n",
      "Boss is dead!\n",
      "Boss is dead!\n",
      "Boss is dead!\n",
      "Boss is dead!\n",
      "Boss is dead!\n",
      "Boss is dead!\n",
      "Boss is dead!\n",
      "Boss is dead!\n",
      "Boss is dead!\n",
      "Boss is dead!\n",
      "Boss is dead!\n",
      "Player is dead!\n",
      "Player is dead!\n",
      "Player is dead!\n",
      "Boss is dead!\n",
      "Player is dead!\n",
      "Player is dead!\n",
      "Boss is dead!\n",
      "Boss is dead!\n",
      "Boss is dead!\n",
      "Player is dead!\n",
      "Boss is dead!\n",
      "Boss is dead!\n",
      "Boss is dead!\n",
      "Boss is dead!\n",
      "Boss is dead!\n",
      "Boss is dead!\n",
      "Boss is dead!\n",
      "Boss is dead!\n",
      "Boss is dead!\n",
      "Boss is dead!\n",
      "Boss is dead!\n",
      "Boss is dead!\n",
      "Player is dead!\n",
      "Boss is dead!\n",
      "Boss is dead!\n",
      "Boss is dead!\n",
      "Boss is dead!\n",
      "Boss is dead!\n",
      "Boss is dead!\n",
      "Boss is dead!\n",
      "Boss is dead!\n",
      "Boss is dead!\n",
      "Boss is dead!\n",
      "Boss is dead!\n",
      "Boss is dead!\n",
      "Boss is dead!\n",
      "Boss is dead!\n",
      "Player is dead!\n",
      "Player is dead!\n",
      "Boss is dead!\n",
      "Boss is dead!\n",
      "Player is dead!\n",
      "Boss is dead!\n",
      "Boss is dead!\n",
      "Boss is dead!\n",
      "Boss is dead!\n",
      "Boss is dead!\n",
      "Boss is dead!\n",
      "Boss is dead!\n",
      "Boss is dead!\n",
      "Boss is dead!\n",
      "Boss is dead!\n",
      "Boss is dead!\n",
      "Boss is dead!\n",
      "Boss is dead!\n",
      "Boss is dead!\n",
      "Boss is dead!\n",
      "Boss is dead!\n",
      "Boss is dead!\n",
      "Boss is dead!\n",
      "Boss is dead!\n",
      "Boss is dead!\n",
      "Boss is dead!\n",
      "Boss is dead!\n",
      "Boss is dead!\n",
      "Boss is dead!\n",
      "Boss is dead!\n",
      "Boss is dead!\n",
      "Boss is dead!\n",
      "Boss is dead!\n",
      "Boss is dead!\n",
      "Boss is dead!\n",
      "Boss is dead!\n",
      "Boss is dead!\n",
      "Player is dead!\n",
      "Boss is dead!\n",
      "Boss is dead!\n",
      "Boss is dead!\n",
      "Boss is dead!\n",
      "Boss is dead!\n",
      "Boss is dead!\n",
      "Boss is dead!\n",
      "Boss is dead!\n",
      "Boss is dead!\n",
      "Boss is dead!\n",
      "Boss is dead!\n",
      "Boss is dead!\n",
      "Boss is dead!\n",
      "Boss is dead!\n",
      "Boss is dead!\n",
      "Boss is dead!\n",
      "Boss is dead!\n",
      "Boss is dead!\n",
      "Boss is dead!\n",
      "Boss is dead!\n",
      "Boss is dead!\n",
      "Boss is dead!\n",
      "Boss is dead!\n",
      "Boss is dead!\n",
      "Boss is dead!\n",
      "Boss is dead!\n",
      "Boss is dead!\n",
      "Boss is dead!\n",
      "Boss is dead!\n",
      "Boss is dead!\n",
      "Boss is dead!\n",
      "Boss is dead!\n",
      "Boss is dead!\n",
      "Boss is dead!\n",
      "Boss is dead!\n",
      "Boss is dead!\n",
      "Boss is dead!\n",
      "Boss is dead!\n",
      "Boss is dead!\n",
      "Boss is dead!\n",
      "Boss is dead!\n",
      "Boss is dead!\n",
      "Boss is dead!\n",
      "Boss is dead!\n",
      "Boss is dead!\n",
      "Boss is dead!\n",
      "Boss is dead!\n",
      "Boss is dead!\n",
      "Boss is dead!\n",
      "Boss is dead!\n",
      "Boss is dead!\n",
      "Boss is dead!\n",
      "Boss is dead!\n",
      "Boss is dead!\n",
      "Boss is dead!\n",
      "Boss is dead!\n",
      "Boss is dead!\n",
      "Boss is dead!\n",
      "Boss is dead!\n",
      "Boss is dead!\n",
      "Boss is dead!\n",
      "Boss is dead!\n",
      "Boss is dead!\n",
      "Boss is dead!\n",
      "Boss is dead!\n",
      "Boss is dead!\n",
      "Boss is dead!\n",
      "Boss is dead!\n",
      "Boss is dead!\n",
      "Boss is dead!\n",
      "Boss is dead!\n",
      "Boss is dead!\n",
      "Boss is dead!\n",
      "Boss is dead!\n",
      "Boss is dead!\n",
      "Boss is dead!\n",
      "Boss is dead!\n",
      "Boss is dead!\n",
      "Boss is dead!\n",
      "Boss is dead!\n",
      "Boss is dead!\n",
      "Boss is dead!\n",
      "Boss is dead!\n",
      "Boss is dead!\n",
      "Boss is dead!\n",
      "Boss is dead!\n",
      "Boss is dead!\n",
      "Boss is dead!\n",
      "Boss is dead!\n",
      "Boss is dead!\n",
      "Boss is dead!\n",
      "Boss is dead!\n",
      "Boss is dead!\n",
      "Boss is dead!\n",
      "Boss is dead!\n",
      "Boss is dead!\n",
      "Boss is dead!\n",
      "Boss is dead!\n",
      "Boss is dead!\n",
      "Boss is dead!\n",
      "Boss is dead!\n",
      "Boss is dead!\n",
      "Boss is dead!\n",
      "Boss is dead!\n",
      "Boss is dead!\n",
      "Boss is dead!\n",
      "Boss is dead!\n",
      "Boss is dead!\n",
      "Boss is dead!\n",
      "Boss is dead!\n",
      "Boss is dead!\n",
      "Boss is dead!\n",
      "Boss is dead!\n",
      "Boss is dead!\n",
      "Boss is dead!\n",
      "Boss is dead!\n",
      "Boss is dead!\n",
      "Boss is dead!\n",
      "Boss is dead!\n",
      "Boss is dead!\n",
      "Boss is dead!\n",
      "Boss is dead!\n",
      "Boss is dead!\n",
      "Boss is dead!\n",
      "Boss is dead!\n",
      "Boss is dead!\n",
      "Boss is dead!\n",
      "Boss is dead!\n",
      "Boss is dead!\n",
      "Boss is dead!\n",
      "Boss is dead!\n",
      "Boss is dead!\n",
      "Boss is dead!\n",
      "Boss is dead!\n",
      "Boss is dead!\n",
      "Boss is dead!\n",
      "Boss is dead!\n",
      "Boss is dead!\n",
      "Boss is dead!\n",
      "Boss is dead!\n",
      "Boss is dead!\n",
      "Boss is dead!\n",
      "Boss is dead!\n",
      "Boss is dead!\n",
      "Boss is dead!\n",
      "Boss is dead!\n",
      "Boss is dead!\n"
     ]
    }
   ],
   "source": [
    "cost_win = []\n",
    "cost_lose = []\n",
    "losing_gear = []\n",
    "for weap, armo, ring in store:\n",
    "    you = Character(\"Player\", 100, 0, 0)\n",
    "    boss = Character(\"Boss\", 109, 8, 2)\n",
    "    if weap != '':\n",
    "        you.set_equipment(weap, Weapons[weap])\n",
    "    if armo != '':\n",
    "        you.set_equipment(armo, Armor[armo])\n",
    "    if len(ring) > 0:\n",
    "        for r in ring:\n",
    "            you.set_equipment(r, Rings[r])\n",
    "            \n",
    "    while True:\n",
    "        boss.get_hit(you)\n",
    "        if not boss.is_alive:\n",
    "            cost_win.append(you.gold_value)\n",
    "            break\n",
    "\n",
    "        you.get_hit(boss)\n",
    "        if not you.is_alive:\n",
    "            cost_lose.append(you.gold_value)\n",
    "            losing_gear.append((weap, armo, ring))\n",
    "            break"
   ]
  },
  {
   "cell_type": "code",
   "execution_count": 130,
   "id": "dc74dbb3",
   "metadata": {},
   "outputs": [
    {
     "data": {
      "text/plain": [
       "111"
      ]
     },
     "execution_count": 130,
     "metadata": {},
     "output_type": "execute_result"
    }
   ],
   "source": [
    "min(cost_win)"
   ]
  },
  {
   "cell_type": "code",
   "execution_count": 131,
   "id": "8b388660",
   "metadata": {},
   "outputs": [
    {
     "data": {
      "text/plain": [
       "188"
      ]
     },
     "execution_count": 131,
     "metadata": {},
     "output_type": "execute_result"
    }
   ],
   "source": [
    "max(cost_lose)"
   ]
  },
  {
   "cell_type": "code",
   "execution_count": 132,
   "id": "f755850d",
   "metadata": {},
   "outputs": [
    {
     "data": {
      "text/plain": [
       "('Dagger', '', ('Damage3', 'Defense3'))"
      ]
     },
     "execution_count": 132,
     "metadata": {},
     "output_type": "execute_result"
    }
   ],
   "source": [
    "losing_gear[np.argmax(cost_lose)]"
   ]
  },
  {
   "cell_type": "code",
   "execution_count": null,
   "id": "11b2eff1",
   "metadata": {},
   "outputs": [],
   "source": []
  }
 ],
 "metadata": {
  "kernelspec": {
   "display_name": "Python 3 (ipykernel)",
   "language": "python",
   "name": "python3"
  },
  "language_info": {
   "codemirror_mode": {
    "name": "ipython",
    "version": 3
   },
   "file_extension": ".py",
   "mimetype": "text/x-python",
   "name": "python",
   "nbconvert_exporter": "python",
   "pygments_lexer": "ipython3",
   "version": "3.10.12"
  }
 },
 "nbformat": 4,
 "nbformat_minor": 5
}
