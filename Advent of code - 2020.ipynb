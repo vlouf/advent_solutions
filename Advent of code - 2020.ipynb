{
 "cells": [
  {
   "cell_type": "markdown",
   "id": "b57d874d",
   "metadata": {},
   "source": [
    "# Day 1\n",
    "\n",
    "https://adventofcode.com/2020"
   ]
  },
  {
   "cell_type": "code",
   "execution_count": 1,
   "id": "b14f494f",
   "metadata": {},
   "outputs": [],
   "source": [
    "with open(\"./data/adventofcode.com_2020_day_1_input.txt\", \"r\") as fid:\n",
    "    content = fid.read().splitlines()\n",
    "    content = [int(c) for c in content]"
   ]
  },
  {
   "cell_type": "code",
   "execution_count": 2,
   "id": "dbb860f7",
   "metadata": {},
   "outputs": [
    {
     "name": "stdout",
     "output_type": "stream",
     "text": [
      "855 883 282\n",
      "212900130\n"
     ]
    },
    {
     "ename": "ValueError",
     "evalue": "f",
     "output_type": "error",
     "traceback": [
      "\u001b[1;31m---------------------------------------------------------------------------\u001b[0m",
      "\u001b[1;31mValueError\u001b[0m                                Traceback (most recent call last)",
      "Cell \u001b[1;32mIn[2], line 10\u001b[0m\n\u001b[0;32m      8\u001b[0m \u001b[38;5;28mprint\u001b[39m(content[i], content[j],  content[k])\n\u001b[0;32m      9\u001b[0m \u001b[38;5;28mprint\u001b[39m(content[i] \u001b[38;5;241m*\u001b[39m content[j] \u001b[38;5;241m*\u001b[39m content[k])\n\u001b[1;32m---> 10\u001b[0m \u001b[38;5;28;01mraise\u001b[39;00m \u001b[38;5;167;01mValueError\u001b[39;00m(\u001b[38;5;124m\"\u001b[39m\u001b[38;5;124mf\u001b[39m\u001b[38;5;124m\"\u001b[39m)\n",
      "\u001b[1;31mValueError\u001b[0m: f"
     ]
    }
   ],
   "source": [
    "nl = len(content)\n",
    "for i in range(nl):\n",
    "    for j in range(nl):\n",
    "        for k in range(nl):\n",
    "            if i == j or i == k or j == k:\n",
    "                continue\n",
    "            if content[i] + content[j] + content[k] == 2020:\n",
    "                print(content[i], content[j],  content[k])\n",
    "                print(content[i] * content[j] * content[k])\n",
    "                raise ValueError(\"f\")"
   ]
  },
  {
   "cell_type": "markdown",
   "id": "84acbce5",
   "metadata": {},
   "source": [
    "# Day 2"
   ]
  },
  {
   "cell_type": "code",
   "execution_count": 4,
   "id": "c5b15d8a",
   "metadata": {},
   "outputs": [],
   "source": [
    "import re\n",
    "with open(\"./data/adventofcode.com_2020_day_2_input.txt\", \"r\") as fid:\n",
    "    content = fid.read().splitlines()"
   ]
  },
  {
   "cell_type": "code",
   "execution_count": 5,
   "id": "9eae79f9",
   "metadata": {},
   "outputs": [],
   "source": [
    "def check_pw(line):\n",
    "    nums, chars, pw = line.split(\" \")\n",
    "    num = [int(n) for n in nums.split(\"-\")]\n",
    "    char = chars.replace(\":\", \"\")\n",
    "\n",
    "    n = len(re.findall(char, pw))\n",
    "    if n >= num[0] and n <= num[1]:\n",
    "        return 1\n",
    "    else:\n",
    "        return 0"
   ]
  },
  {
   "cell_type": "code",
   "execution_count": 6,
   "id": "26bbd578",
   "metadata": {},
   "outputs": [
    {
     "data": {
      "text/plain": [
       "422"
      ]
     },
     "execution_count": 6,
     "metadata": {},
     "output_type": "execute_result"
    }
   ],
   "source": [
    "sum([check_pw(c) for c in content])"
   ]
  },
  {
   "cell_type": "code",
   "execution_count": 7,
   "id": "5c3231fd",
   "metadata": {},
   "outputs": [],
   "source": [
    "def check_pw2(line):\n",
    "    nums, chars, pw = line.split(\" \")\n",
    "    num = [int(n) for n in nums.split(\"-\")]\n",
    "    char = chars.replace(\":\", \"\")\n",
    "\n",
    "    if char == pw[num[0] - 1] and char != pw[num[1] - 1]:\n",
    "        return 1\n",
    "    elif char != pw[num[0] - 1] and char == pw[num[1] - 1]:\n",
    "        return 1\n",
    "    else:\n",
    "        return 0"
   ]
  },
  {
   "cell_type": "code",
   "execution_count": 8,
   "id": "9abe18e7",
   "metadata": {},
   "outputs": [
    {
     "data": {
      "text/plain": [
       "451"
      ]
     },
     "execution_count": 8,
     "metadata": {},
     "output_type": "execute_result"
    }
   ],
   "source": [
    "sum([check_pw2(c) for c in content])"
   ]
  },
  {
   "cell_type": "markdown",
   "id": "800b668e",
   "metadata": {},
   "source": [
    "# Day 3"
   ]
  },
  {
   "cell_type": "code",
   "execution_count": 9,
   "id": "5ce65e4f",
   "metadata": {},
   "outputs": [],
   "source": [
    "import numpy as np"
   ]
  },
  {
   "cell_type": "code",
   "execution_count": 10,
   "id": "7c02d4b5",
   "metadata": {},
   "outputs": [],
   "source": [
    "with open(\"./data/adventofcode.com_2020_day_3_input.txt\", \"r\") as fid:\n",
    "    content = fid.read().splitlines()"
   ]
  },
  {
   "cell_type": "code",
   "execution_count": 11,
   "id": "3f8a7646",
   "metadata": {},
   "outputs": [],
   "source": [
    "nl = len(content[0])\n",
    "maxline = len(content)"
   ]
  },
  {
   "cell_type": "code",
   "execution_count": 13,
   "id": "3114b720",
   "metadata": {},
   "outputs": [
    {
     "name": "stdout",
     "output_type": "stream",
     "text": [
      "268\n"
     ]
    }
   ],
   "source": [
    "i = 0\n",
    "j = 0\n",
    "count = 0\n",
    "while i < maxline -1:\n",
    "    i += 1\n",
    "    j += 3\n",
    "    if j >= nl:\n",
    "        j = j % nl\n",
    "    if content[i][j] == \"#\":\n",
    "        count += 1\n",
    "print(count)"
   ]
  },
  {
   "cell_type": "markdown",
   "id": "d063b97b",
   "metadata": {},
   "source": [
    "- Right 1, down 1.\n",
    "- Right 3, down 1. (This is the slope you already checked.)\n",
    "- Right 5, down 1.\n",
    "- Right 7, down 1.\n",
    "- Right 1, down 2."
   ]
  },
  {
   "cell_type": "code",
   "execution_count": 14,
   "id": "29492e84",
   "metadata": {},
   "outputs": [
    {
     "name": "stdout",
     "output_type": "stream",
     "text": [
      "68\n",
      "268\n",
      "73\n",
      "75\n",
      "31\n"
     ]
    }
   ],
   "source": [
    "ledger = []\n",
    "for mov in [[1, 1], [3, 1], [5, 1], [7, 1], [1, 2]]:\n",
    "    i = 0\n",
    "    j = 0\n",
    "    count = 0\n",
    "    while i < maxline -1:\n",
    "        i += mov[1]\n",
    "        j += mov[0]\n",
    "        if j >= nl:\n",
    "            j = j % nl\n",
    "        if content[i][j] == \"#\":\n",
    "            count += 1\n",
    "    print(count)\n",
    "    ledger.append(count)"
   ]
  },
  {
   "cell_type": "code",
   "execution_count": 15,
   "id": "1808e1e8",
   "metadata": {},
   "outputs": [
    {
     "data": {
      "text/plain": [
       "3093068400"
      ]
     },
     "execution_count": 15,
     "metadata": {},
     "output_type": "execute_result"
    }
   ],
   "source": [
    "68 * 268 * 73 * 75 * 31"
   ]
  },
  {
   "cell_type": "markdown",
   "id": "d0afb38d",
   "metadata": {},
   "source": [
    "# Day 4"
   ]
  },
  {
   "cell_type": "markdown",
   "id": "f192253c",
   "metadata": {},
   "source": [
    "- byr (Birth Year)\n",
    "- iyr (Issue Year)\n",
    "- eyr (Expiration Year)\n",
    "- hgt (Height)\n",
    "- hcl (Hair Color)\n",
    "- ecl (Eye Color)\n",
    "- pid (Passport ID)\n",
    "- cid (Country ID)"
   ]
  },
  {
   "cell_type": "code",
   "execution_count": 22,
   "id": "ea9d62ea",
   "metadata": {},
   "outputs": [],
   "source": [
    "with open(\"./data/adventofcode.com_2020_day_4_input\", \"r\") as fid:\n",
    "    content = [c.replace(\"\\n\", \" \") for c in fid.read().split(\"\\n\\n\")]"
   ]
  },
  {
   "cell_type": "code",
   "execution_count": 28,
   "id": "e1a14934",
   "metadata": {},
   "outputs": [],
   "source": [
    "import pandas as pd"
   ]
  },
  {
   "cell_type": "code",
   "execution_count": 32,
   "id": "82f511f7",
   "metadata": {},
   "outputs": [],
   "source": [
    "keys = [\"byr:\", \"eyr:\", \"hgt:\", \"pid:\", \"hcl:\", \"iyr:\", \"ecl:\"]\n",
    "valid = 0\n",
    "for l in content:\n",
    "    if all([k in l for k in keys]):\n",
    "        valid += 1"
   ]
  },
  {
   "cell_type": "code",
   "execution_count": 33,
   "id": "1c41341b",
   "metadata": {},
   "outputs": [
    {
     "data": {
      "text/plain": [
       "242"
      ]
     },
     "execution_count": 33,
     "metadata": {},
     "output_type": "execute_result"
    }
   ],
   "source": [
    "valid"
   ]
  },
  {
   "cell_type": "markdown",
   "id": "33330474",
   "metadata": {},
   "source": [
    "- byr (Birth Year) - four digits; at least 1920 and at most 2002.\n",
    "- iyr (Issue Year) - four digits; at least 2010 and at most 2020.\n",
    "- eyr (Expiration Year) - four digits; at least 2020 and at most 2030.\n",
    "- hgt (Height) - a number followed by either cm or in:\n",
    "    - If cm, the number must be at least 150 and at most 193.\n",
    "    - If in, the number must be at least 59 and at most 76.\n",
    "- hcl (Hair Color) - a # followed by exactly six characters 0-9 or a-f.\n",
    "- ecl (Eye Color) - exactly one of: amb blu brn gry grn hzl oth.\n",
    "- pid (Passport ID) - a nine-digit number, including leading zeroes.\n",
    "- cid (Country ID) - ignored, missing or not."
   ]
  },
  {
   "cell_type": "code",
   "execution_count": 45,
   "id": "19e2ffb3",
   "metadata": {},
   "outputs": [],
   "source": [
    "l = content[1]"
   ]
  },
  {
   "cell_type": "code",
   "execution_count": 64,
   "id": "98fae6ec",
   "metadata": {},
   "outputs": [],
   "source": [
    "def check_data(key, value):\n",
    "    if key == \"byr\":\n",
    "        v = int(value)\n",
    "        if v < 1920 or v > 2002:\n",
    "            return False\n",
    "    elif key == \"iyr\":\n",
    "        v = int(value)\n",
    "        if v < 2010 or v > 2020:\n",
    "            return False\n",
    "    elif key == \"eyr\":\n",
    "        v = int(value)\n",
    "        if v < 2020 or v > 2030:\n",
    "            return False\n",
    "    elif key == \"hcl\":\n",
    "        if not value.startswith(\"#\"):\n",
    "            return False\n",
    "        if len(value) != 7:\n",
    "            return False\n",
    "    elif key == \"ecl\":\n",
    "        if value not in ['amb', 'blu', 'brn', 'gry', 'grn', 'hzl', 'oth']:\n",
    "            return False\n",
    "    elif key == \"pid\":\n",
    "        _ = int(value)\n",
    "        if len(value) != 9:\n",
    "            return False\n",
    "    elif key == \"hgt\":\n",
    "        v = int(value[:-2])\n",
    "        if value.endswith(\"in\"):\n",
    "            if v < 59 or v > 76 :\n",
    "                return False\n",
    "        elif value.endswith(\"cm\"):\n",
    "            if v < 150 or v > 193:\n",
    "                return False\n",
    "        else:\n",
    "            return False\n",
    "            \n",
    "    return True\n",
    "    "
   ]
  },
  {
   "cell_type": "code",
   "execution_count": 65,
   "id": "3e3bbe2e",
   "metadata": {},
   "outputs": [],
   "source": [
    "valid = 0\n",
    "for l in content:\n",
    "    if not all([k in l for k in keys]):\n",
    "        continue\n",
    "        \n",
    "    data = {v.split(\":\")[0]: v.split(\":\")[1] for v in l.replace(\" \", \"\\n\").splitlines()}\n",
    "    try:\n",
    "        if all([check_data(key, value) for key, value in data.items()]):\n",
    "            valid += 1\n",
    "    except Exception:\n",
    "        continue"
   ]
  },
  {
   "cell_type": "code",
   "execution_count": 66,
   "id": "245c1b15",
   "metadata": {},
   "outputs": [
    {
     "data": {
      "text/plain": [
       "186"
      ]
     },
     "execution_count": 66,
     "metadata": {},
     "output_type": "execute_result"
    }
   ],
   "source": [
    "valid"
   ]
  },
  {
   "cell_type": "markdown",
   "id": "6594eb2b",
   "metadata": {},
   "source": [
    "# Day 5"
   ]
  },
  {
   "cell_type": "code",
   "execution_count": 85,
   "id": "fb4e4470",
   "metadata": {},
   "outputs": [],
   "source": [
    "import numpy as np"
   ]
  },
  {
   "cell_type": "code",
   "execution_count": 101,
   "id": "b205a7d7",
   "metadata": {},
   "outputs": [],
   "source": [
    "with open(\"data/adventofcode.com_2020_day_5_input\", \"r\") as fid:\n",
    "    content = fid.read().splitlines()"
   ]
  },
  {
   "cell_type": "code",
   "execution_count": 92,
   "id": "fe3b1261",
   "metadata": {},
   "outputs": [],
   "source": [
    "def get_seat_pos(ticket):\n",
    "    num_row = ticket[:-3]\n",
    "    num_seat = ticket[-3:]\n",
    "    rows = np.arange(128)\n",
    "    for r in num_row:\n",
    "        if r == \"B\":\n",
    "            rows = rows[len(rows) // 2:]\n",
    "        else:\n",
    "            rows = rows[:len(rows) // 2]\n",
    "    irow = rows[0]\n",
    "\n",
    "    seats = np.arange(8)\n",
    "    for s in num_seat:\n",
    "        if s == \"R\":\n",
    "            seats = seats[len(seats) // 2:]\n",
    "        else:\n",
    "            seats = seats[:len(seats) // 2]\n",
    "    jseat = seats[0]\n",
    "    \n",
    "    return irow, jseat"
   ]
  },
  {
   "cell_type": "code",
   "execution_count": 111,
   "id": "05ef6cdc",
   "metadata": {},
   "outputs": [],
   "source": [
    "plan = np.zeros((128, 8), dtype=int) + 1\n",
    "for ticket in content:\n",
    "    plan[get_seat_pos(ticket)] = 0"
   ]
  },
  {
   "cell_type": "code",
   "execution_count": 124,
   "id": "8d0c0d50",
   "metadata": {},
   "outputs": [],
   "source": [
    "row, seat = np.where(plan == 0)"
   ]
  },
  {
   "cell_type": "code",
   "execution_count": 135,
   "id": "a2ffb012",
   "metadata": {},
   "outputs": [
    {
     "name": "stdout",
     "output_type": "stream",
     "text": [
      "569\n"
     ]
    }
   ],
   "source": [
    "seat_ID_list = sorted(row * 8 + seat)\n",
    "for potential_ID in range(seat_ID_list[0], seat_ID_list[-1]):\n",
    "    if potential_ID not in seat_ID_list:\n",
    "        if (potential_ID - 1) in seat_ID_list and (potential_ID + 1) in seat_ID_list:\n",
    "            print(potential_ID)"
   ]
  },
  {
   "cell_type": "markdown",
   "id": "b3fa1bc1",
   "metadata": {},
   "source": [
    "# Day 6"
   ]
  },
  {
   "cell_type": "code",
   "execution_count": 136,
   "id": "0ec72d2c",
   "metadata": {},
   "outputs": [],
   "source": [
    "with open(\"data/adventofcode.com_2020_day_6_input\", \"r\") as fid:\n",
    "    content = fid.read().split(\"\\n\\n\")"
   ]
  },
  {
   "cell_type": "code",
   "execution_count": 141,
   "id": "c45ec11c",
   "metadata": {},
   "outputs": [
    {
     "name": "stdout",
     "output_type": "stream",
     "text": [
      "6457\n"
     ]
    }
   ],
   "source": [
    "count = 0\n",
    "for l in content:\n",
    "    s = set(l.replace(\"\\n\", \"\"))\n",
    "    count += len(s)\n",
    "print(count)"
   ]
  },
  {
   "cell_type": "code",
   "execution_count": 156,
   "id": "836e6b1c",
   "metadata": {},
   "outputs": [
    {
     "name": "stdout",
     "output_type": "stream",
     "text": [
      "4363\n"
     ]
    }
   ],
   "source": [
    "count = 0\n",
    "for l in content:\n",
    "    a = [set(ll) for ll in l.splitlines()]\n",
    "    if len(a) == 1:\n",
    "        count += len(a[0])\n",
    "        continue\n",
    "        \n",
    "    b = a[0] \n",
    "    for i in range(1, len(a)):\n",
    "        b = b and a[i]\n",
    "    count += len(b)\n",
    "print(count)"
   ]
  },
  {
   "cell_type": "code",
   "execution_count": 158,
   "id": "8a2014f2",
   "metadata": {},
   "outputs": [
    {
     "name": "stdout",
     "output_type": "stream",
     "text": [
      "3260\n"
     ]
    }
   ],
   "source": [
    "from functools import reduce\n",
    "\n",
    "with open(\"data/adventofcode.com_2020_day_6_input\", \"r\") as groups:\n",
    "    groups = groups.read().split(\"\\n\\n\")\n",
    "total_answers = []\n",
    "for group in groups:\n",
    "    shared_answers = set(group.split()[0])\n",
    "    for person in group.split():\n",
    "        shared_answers = shared_answers.intersection(set(person))\n",
    "    total_answers.append(len(shared_answers))\n",
    "total_answers = reduce(lambda a, b: a + b, total_answers)\n",
    "print(total_answers)"
   ]
  },
  {
   "cell_type": "code",
   "execution_count": null,
   "id": "05fb7b6a",
   "metadata": {},
   "outputs": [],
   "source": []
  }
 ],
 "metadata": {
  "kernelspec": {
   "display_name": "Python 3 (ipykernel)",
   "language": "python",
   "name": "python3"
  },
  "language_info": {
   "codemirror_mode": {
    "name": "ipython",
    "version": 3
   },
   "file_extension": ".py",
   "mimetype": "text/x-python",
   "name": "python",
   "nbconvert_exporter": "python",
   "pygments_lexer": "ipython3",
   "version": "3.10.12"
  }
 },
 "nbformat": 4,
 "nbformat_minor": 5
}
