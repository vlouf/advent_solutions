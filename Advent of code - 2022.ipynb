{
 "cells": [
  {
   "cell_type": "code",
   "execution_count": 159,
   "id": "5d761614",
   "metadata": {},
   "outputs": [],
   "source": [
    "import re\n",
    "import string\n",
    "import numpy as np"
   ]
  },
  {
   "cell_type": "markdown",
   "id": "ec042f6b",
   "metadata": {},
   "source": [
    "# Day 1"
   ]
  },
  {
   "cell_type": "code",
   "execution_count": 6,
   "id": "9db2aaaa",
   "metadata": {},
   "outputs": [],
   "source": [
    "with open(\"./data/adventofcode.com_2022_day_1_input\", \"r\") as fid:\n",
    "    content = fid.read().split(\"\\n\\n\")"
   ]
  },
  {
   "cell_type": "code",
   "execution_count": 10,
   "id": "a8bc4398",
   "metadata": {},
   "outputs": [
    {
     "name": "stdout",
     "output_type": "stream",
     "text": [
      "66616\n"
     ]
    }
   ],
   "source": [
    "calories = []\n",
    "for c in content:\n",
    "    tmp = sum([int(i) for i in c.splitlines()])\n",
    "    calories.append(tmp)\n",
    "print(max(calories))"
   ]
  },
  {
   "cell_type": "code",
   "execution_count": 12,
   "id": "030041e0",
   "metadata": {},
   "outputs": [
    {
     "data": {
      "text/plain": [
       "199172"
      ]
     },
     "execution_count": 12,
     "metadata": {},
     "output_type": "execute_result"
    }
   ],
   "source": [
    "# Part 2\n",
    "sum(sorted(calories)[-3:])"
   ]
  },
  {
   "cell_type": "markdown",
   "id": "2c1b3759",
   "metadata": {},
   "source": [
    " # Day 2"
   ]
  },
  {
   "cell_type": "code",
   "execution_count": 14,
   "id": "98af7814",
   "metadata": {},
   "outputs": [],
   "source": [
    "with open(\"./data/adventofcode.com_2022_day_2_input\", \"r\") as fid:\n",
    "    content = fid.read().splitlines()"
   ]
  },
  {
   "cell_type": "markdown",
   "id": "c81b3c93",
   "metadata": {},
   "source": [
    "AX Rock 1\n",
    "BY paper 2\n",
    "CZ scissors 3"
   ]
  },
  {
   "cell_type": "code",
   "execution_count": 19,
   "id": "d55182e3",
   "metadata": {},
   "outputs": [],
   "source": [
    "hands = {\n",
    "    \"A X\": 4,\n",
    "    \"B X\": 1,\n",
    "    \"C X\": 7,\n",
    "    \"A Y\": 8,\n",
    "    \"B Y\": 5,\n",
    "    \"C Y\": 2,\n",
    "    \"A Z\": 3,\n",
    "    \"B Z\": 9,\n",
    "    \"C Z\": 6,\n",
    "}"
   ]
  },
  {
   "cell_type": "code",
   "execution_count": 20,
   "id": "f1bfe8fd",
   "metadata": {},
   "outputs": [
    {
     "data": {
      "text/plain": [
       "11767"
      ]
     },
     "execution_count": 20,
     "metadata": {},
     "output_type": "execute_result"
    }
   ],
   "source": [
    "sum([hands[c] for c in content])"
   ]
  },
  {
   "cell_type": "code",
   "execution_count": 24,
   "id": "e2a3a182",
   "metadata": {},
   "outputs": [],
   "source": [
    "# Part 2\n",
    "hands = {\n",
    "    \"A X\": 3,\n",
    "    \"B X\": 1,\n",
    "    \"C X\": 2,\n",
    "    \"A Y\": 4,\n",
    "    \"B Y\": 5,\n",
    "    \"C Y\": 6,\n",
    "    \"A Z\": 6 + 2,\n",
    "    \"B Z\": 6 + 3,\n",
    "    \"C Z\": 6 + 1,\n",
    "}"
   ]
  },
  {
   "cell_type": "code",
   "execution_count": 25,
   "id": "c4d15825",
   "metadata": {},
   "outputs": [
    {
     "data": {
      "text/plain": [
       "13886"
      ]
     },
     "execution_count": 25,
     "metadata": {},
     "output_type": "execute_result"
    }
   ],
   "source": [
    "sum([hands[c] for c in content])"
   ]
  },
  {
   "cell_type": "markdown",
   "id": "2bd92eff",
   "metadata": {},
   "source": [
    "# Day 3"
   ]
  },
  {
   "cell_type": "code",
   "execution_count": 116,
   "id": "c04d9868",
   "metadata": {},
   "outputs": [],
   "source": [
    "# content = \"\"\"vJrwpWtwJgWrhcsFMMfFFhFp\n",
    "# jqHRNqRjqzjGDLGLrsFMfFZSrLrFZsSL\n",
    "# PmmdzqPrVvPwwTWBwg\n",
    "# wMqvLMZHhHMvwLHjbvcjnnSBnvTQFn\n",
    "# ttgJtRGJQctTZtZT\n",
    "# CrZsJsPPZsGzwwsLwLmpwMDw\"\"\".splitlines()\n",
    "\n",
    "with open(\"./data/adventofcode.com_2022_day_3_input\", \"r\") as fid:\n",
    "    content = fid.read().splitlines()"
   ]
  },
  {
   "cell_type": "code",
   "execution_count": 80,
   "id": "234f0393",
   "metadata": {},
   "outputs": [],
   "source": [
    "def get_string_ord(char):\n",
    "    if char.isupper():\n",
    "        return ord(char) - 64 + 26\n",
    "    else:\n",
    "        return ord(char) - 96"
   ]
  },
  {
   "cell_type": "code",
   "execution_count": 83,
   "id": "a33ee7ff",
   "metadata": {},
   "outputs": [],
   "source": [
    "values = []\n",
    "for c in content:\n",
    "    nl = len(c) // 2\n",
    "    for char in c[:nl]:\n",
    "        if char in c[nl:]:\n",
    "            values.append(get_string_ord(char))\n",
    "            break"
   ]
  },
  {
   "cell_type": "code",
   "execution_count": 85,
   "id": "e31c5f02",
   "metadata": {},
   "outputs": [
    {
     "data": {
      "text/plain": [
       "7990"
      ]
     },
     "execution_count": 85,
     "metadata": {},
     "output_type": "execute_result"
    }
   ],
   "source": [
    "sum(values)"
   ]
  },
  {
   "cell_type": "code",
   "execution_count": 117,
   "id": "d9d1f370",
   "metadata": {},
   "outputs": [],
   "source": [
    "elf1 = content[::3]\n",
    "elf2 = content[1::3]\n",
    "elf3 = content[2::3]"
   ]
  },
  {
   "cell_type": "code",
   "execution_count": 119,
   "id": "2de413cf",
   "metadata": {},
   "outputs": [],
   "source": [
    "values = []\n",
    "for i in range(len(elf1)):\n",
    "    a = set(elf1[i])\n",
    "    b = set(elf2[i])\n",
    "    c = set(elf3[i])\n",
    "    char = a.intersection(b).intersection(c)\n",
    "    v = get_string_ord(list(char)[0])\n",
    "    values.append(v)"
   ]
  },
  {
   "cell_type": "code",
   "execution_count": 121,
   "id": "cd327458",
   "metadata": {},
   "outputs": [
    {
     "data": {
      "text/plain": [
       "2602"
      ]
     },
     "execution_count": 121,
     "metadata": {},
     "output_type": "execute_result"
    }
   ],
   "source": [
    "sum(values)"
   ]
  },
  {
   "cell_type": "markdown",
   "id": "9d69f5bb",
   "metadata": {},
   "source": [
    "# Day 4"
   ]
  },
  {
   "cell_type": "code",
   "execution_count": 130,
   "id": "41562e0c",
   "metadata": {},
   "outputs": [],
   "source": [
    "with open(\"./data/adventofcode.com_2022_day_4_input.txt\", \"r\") as fid:\n",
    "    content = fid.read().splitlines()"
   ]
  },
  {
   "cell_type": "code",
   "execution_count": 147,
   "id": "c64d50c8",
   "metadata": {
    "scrolled": true
   },
   "outputs": [
    {
     "name": "stdout",
     "output_type": "stream",
     "text": [
      "602\n"
     ]
    }
   ],
   "source": [
    "count = 0\n",
    "for line in content:\n",
    "    r0, r1 = line.split(\",\")\n",
    "    a = int(r0.split(\"-\")[0])\n",
    "    b = int(r0.split(\"-\")[1])\n",
    "    c = int(r1.split(\"-\")[0])\n",
    "    d = int(r1.split(\"-\")[1])\n",
    "    \n",
    "    if a >= c and b <= d:\n",
    "        count += 1\n",
    "    elif c >= a and d <= b:\n",
    "        count += 1\n",
    "print(count)"
   ]
  },
  {
   "cell_type": "code",
   "execution_count": 151,
   "id": "4e8e48a7",
   "metadata": {},
   "outputs": [
    {
     "name": "stdout",
     "output_type": "stream",
     "text": [
      "891\n"
     ]
    }
   ],
   "source": [
    "count = 0\n",
    "for line in content:\n",
    "    r0, r1 = line.split(\",\")\n",
    "    a = int(r0.split(\"-\")[0])\n",
    "    b = int(r0.split(\"-\")[1])\n",
    "    c = int(r1.split(\"-\")[0])\n",
    "    d = int(r1.split(\"-\")[1])\n",
    "\n",
    "    if (c >= a and c <= b) or (a >= c and a <= d):\n",
    "        count += 1\n",
    "print(count)"
   ]
  },
  {
   "cell_type": "markdown",
   "id": "7bcda0ad",
   "metadata": {},
   "source": [
    "# Day 5"
   ]
  },
  {
   "cell_type": "code",
   "execution_count": 158,
   "id": "1a7380b3",
   "metadata": {},
   "outputs": [],
   "source": [
    "with open(\"./data/adventofcode.com_2022_day_5_input.txt\", \"r\") as fid:\n",
    "    content = fid.read().splitlines()\n",
    "    moves = content[10:]"
   ]
  },
  {
   "cell_type": "code",
   "execution_count": 187,
   "id": "dbcd7598",
   "metadata": {},
   "outputs": [],
   "source": [
    "class Cargo:\n",
    "    def __init__(self):\n",
    "        self.crates = {\n",
    "            1: [\"B\", \"Z\", \"T\"],\n",
    "            2: [\"V\", \"H\", \"T\", \"D\", \"N\"],\n",
    "            3: [\"B\", \"F\", \"M\", \"D\"],\n",
    "            4: [\"T\", \"J\", \"G\", \"W\", \"V\", \"Q\", \"L\"],\n",
    "            5: [\"W\", \"D\", \"G\", \"P\", \"V\", \"F\", \"Q\", \"M\"],\n",
    "            6: [\"V\", \"Z\", \"Q\", \"G\", \"H\", \"F\", \"S\"],\n",
    "            7: [\"Z\", \"S\", \"N\", \"R\", \"L\", \"T\", \"C\", \"W\"],\n",
    "            8: [\"Z\", \"H\", \"W\", \"D\", \"J\", \"N\", \"R\", \"M\"],\n",
    "            9: [\"M\", \"Q\", \"L\", \"F\", \"D\", \"S\"],\n",
    "        }\n",
    "    \n",
    "    def get_crate(self, num, col):\n",
    "        if len(self.crates[col]) < num:\n",
    "            raise ValueError(f\"Only {num} crates are stacked {self.crates[col]}.\")\n",
    "            \n",
    "        cargo = []\n",
    "        for i in range(num):\n",
    "            c = self.crates[col].pop()\n",
    "            cargo.append(c)\n",
    "        return cargo\n",
    "    \n",
    "    def set_crate(self, crate, col, reverse=True):\n",
    "        if not reverse:\n",
    "            crate = crate[::-1]\n",
    "        for c in crate:\n",
    "            self.crates[col].append(c)\n",
    "        return None\n",
    "    \n",
    "    def print_top_crate(self):\n",
    "        txt = []\n",
    "        for k, v in self.crates.items():\n",
    "            print(f\"{k}: {v[-1]}\")\n",
    "            txt.append(v[-1])\n",
    "        print(\"\".join(txt))\n",
    "        return None"
   ]
  },
  {
   "cell_type": "code",
   "execution_count": 184,
   "id": "440ca58c",
   "metadata": {},
   "outputs": [],
   "source": [
    "my_cargo = Cargo()\n",
    "for m in moves:\n",
    "    instruction = [int(i) for i in re.findall(\"\\d+\", m)]\n",
    "    lifted = my_cargo.get_crate(instruction[0], instruction[1])\n",
    "    my_cargo.set_crate(lifted, instruction[2])"
   ]
  },
  {
   "cell_type": "code",
   "execution_count": 185,
   "id": "b51037c5",
   "metadata": {},
   "outputs": [
    {
     "name": "stdout",
     "output_type": "stream",
     "text": [
      "1: N\n",
      "2: T\n",
      "3: W\n",
      "4: Z\n",
      "5: Z\n",
      "6: W\n",
      "7: H\n",
      "8: F\n",
      "9: V\n",
      "NTWZZWHFV\n"
     ]
    }
   ],
   "source": [
    "my_cargo.print_top_crate()"
   ]
  },
  {
   "cell_type": "code",
   "execution_count": 188,
   "id": "6048898b",
   "metadata": {},
   "outputs": [
    {
     "name": "stdout",
     "output_type": "stream",
     "text": [
      "1: B\n",
      "2: R\n",
      "3: Z\n",
      "4: G\n",
      "5: F\n",
      "6: V\n",
      "7: B\n",
      "8: T\n",
      "9: J\n",
      "BRZGFVBTJ\n"
     ]
    }
   ],
   "source": [
    "my_cargo = Cargo()\n",
    "for m in moves:\n",
    "    instruction = [int(i) for i in re.findall(\"\\d+\", m)]\n",
    "    lifted = my_cargo.get_crate(instruction[0], instruction[1])\n",
    "    my_cargo.set_crate(lifted, instruction[2], reverse=False)\n",
    "my_cargo.print_top_crate()"
   ]
  },
  {
   "cell_type": "markdown",
   "id": "fb0ecbcd",
   "metadata": {},
   "source": [
    "# Day 6"
   ]
  },
  {
   "cell_type": "code",
   "execution_count": 212,
   "id": "fa80b8c4",
   "metadata": {},
   "outputs": [],
   "source": [
    "with open(\"./data/adventofcode.com_2022_day_6_input.txt\", \"r\") as fid:\n",
    "    content = fid.read()"
   ]
  },
  {
   "cell_type": "code",
   "execution_count": 218,
   "id": "eca52306",
   "metadata": {},
   "outputs": [
    {
     "name": "stdout",
     "output_type": "stream",
     "text": [
      "2263\n"
     ]
    }
   ],
   "source": [
    "rem = []\n",
    "thld = 14\n",
    "pos = 1134\n",
    "for idx, c in enumerate(content):\n",
    "    if idx < pos:\n",
    "        continue\n",
    "    if idx - pos < thld:\n",
    "        rem.append(c)\n",
    "        continue\n",
    "    elif idx == 4:\n",
    "        if len(set(rem)) == thld:\n",
    "            print(idx + 1)\n",
    "            break\n",
    "    \n",
    "    _ = rem.pop(0)\n",
    "    rem.append(c)\n",
    "    if len(set(rem)) == thld:\n",
    "        print(idx + 1)\n",
    "        break"
   ]
  },
  {
   "cell_type": "markdown",
   "id": "7e780a12",
   "metadata": {},
   "source": [
    "# Day 7"
   ]
  },
  {
   "cell_type": "code",
   "execution_count": 225,
   "id": "40853227",
   "metadata": {},
   "outputs": [],
   "source": [
    "with open(\"./data/adventofcode.com_2022_day_7_input.txt\", \"r\") as fid:\n",
    "    content = fid.read()"
   ]
  },
  {
   "cell_type": "code",
   "execution_count": 237,
   "id": "55cc839e",
   "metadata": {},
   "outputs": [],
   "source": [
    "def add_path_to_directories(path, directories):\n",
    "    if path not in directories.keys():\n",
    "        directories[path] = 0\n",
    "    return directories\n",
    "\n",
    "\n",
    "def solution():\n",
    "    f = open(\"./data/adventofcode.com_2022_day_7_input.txt\", \"r\")  # open('data/7.in', 'r')\n",
    "    directories_size = {}\n",
    "    current_stack = []\n",
    "    current_path = \"\"\n",
    "    for line in f:\n",
    "        if line.startswith(\"$ cd\"):\n",
    "            if not line.startswith(\"$ cd ..\") and not line.startswith(\"$ cd /\"):\n",
    "                current_path += f\"/{line.split()[-1]}\" if current_path != \"/\" else line.split()[-1]\n",
    "                current_stack.append(current_path)\n",
    "                directories_size = add_path_to_directories(current_path, directories_size)\n",
    "\n",
    "            elif line.strip() == \"$ cd /\":\n",
    "                current_path = \"/\"\n",
    "                current_stack = [\"/\"]\n",
    "                directories_size = add_path_to_directories(current_path, directories_size)\n",
    "\n",
    "            elif line.strip() == \"$ cd ..\":\n",
    "                current_path = \"/\".join(current_path.split(\"/\")[:-1])\n",
    "                current_stack.pop()\n",
    "\n",
    "        if line[0].isdigit():\n",
    "            file_size = int(line.split()[0])\n",
    "            for directory in current_stack:\n",
    "                directories_size[directory] += file_size\n",
    "\n",
    "    final_list_task_1 = [el for el in directories_size.values() if el <= 100000]\n",
    "    current_root_size = directories_size[\"/\"]\n",
    "    space_to_free = current_root_size - 40000000\n",
    "    final_list_task_2 = sorted([el for el in directories_size.values() if el >= space_to_free])\n",
    "    print(\"Task 2:\")\n",
    "    print(final_list_task_2[0])\n",
    "    print(\"Task 1:\")\n",
    "    print(sum(final_list_task_1))"
   ]
  },
  {
   "cell_type": "code",
   "execution_count": 239,
   "id": "5b26da22",
   "metadata": {},
   "outputs": [
    {
     "name": "stdout",
     "output_type": "stream",
     "text": [
      "Task 2:\n",
      "8278005\n",
      "Task 1:\n",
      "1141028\n"
     ]
    }
   ],
   "source": [
    "solution()"
   ]
  },
  {
   "cell_type": "markdown",
   "id": "8fa34eb1",
   "metadata": {},
   "source": [
    "# Day 8"
   ]
  },
  {
   "cell_type": "code",
   "execution_count": 13,
   "id": "63435b9c",
   "metadata": {},
   "outputs": [],
   "source": [
    "import numpy as np"
   ]
  },
  {
   "cell_type": "code",
   "execution_count": 5,
   "id": "f1818df9",
   "metadata": {},
   "outputs": [],
   "source": [
    "with open(\"./data/adventofcode.com_2022_day_8_input.txt\", \"r\") as fid:\n",
    "    content = fid.read().splitlines()"
   ]
  },
  {
   "cell_type": "code",
   "execution_count": 40,
   "id": "d3dc2e73",
   "metadata": {},
   "outputs": [],
   "source": [
    "def task_1(file):\n",
    "    # Iterate over all trees and check if any of the sides are completely visible\n",
    "    grid = file.read().splitlines()\n",
    "    visible_trees = len(grid)*2 + (len(grid[0])-2)*2  # Get number of trees outside\n",
    "    for row_index, row in enumerate(grid):\n",
    "        if row_index == 0 or row_index == len(grid)-1:  # Skip first and last row\n",
    "            continue\n",
    "        for tree_index, tree_height in enumerate(row):\n",
    "            if tree_index == 0 or tree_index == len(row)-1:  # Skip first and last column\n",
    "                continue\n",
    "            tree_height = int(tree_height)\n",
    "            visible_from_left = all(int(height) < tree_height for height in row[:tree_index])\n",
    "            visible_from_right = all(int(height) < tree_height for height in row[tree_index+1:])\n",
    "            top_trees = [row[tree_index] for row in grid[:row_index]]\n",
    "            visible_from_top = all(int(height) < tree_height for height in top_trees)\n",
    "            bottom_trees = [row[tree_index] for row in grid[row_index+1:]]\n",
    "            visible_from_bottom = all(int(height) < tree_height for height in bottom_trees)\n",
    "            visible_trees += any([visible_from_left, visible_from_right, visible_from_top, visible_from_bottom])\n",
    "    print(\"Task 1 result: \" + str(visible_trees))`"
   ]
  },
  {
   "cell_type": "code",
   "execution_count": 43,
   "id": "d8e14edd",
   "metadata": {},
   "outputs": [
    {
     "name": "stdout",
     "output_type": "stream",
     "text": [
      "Task 1 result: 1805\n"
     ]
    }
   ],
   "source": [
    "with open(\"./data/adventofcode.com_2022_day_8_input.txt\", \"r\") as fid:\n",
    "    task_1(fid)"
   ]
  },
  {
   "cell_type": "code",
   "execution_count": null,
   "id": "67cbbbba",
   "metadata": {},
   "outputs": [],
   "source": []
  }
 ],
 "metadata": {
  "kernelspec": {
   "display_name": "Python 3 (ipykernel)",
   "language": "python",
   "name": "python3"
  },
  "language_info": {
   "codemirror_mode": {
    "name": "ipython",
    "version": 3
   },
   "file_extension": ".py",
   "mimetype": "text/x-python",
   "name": "python",
   "nbconvert_exporter": "python",
   "pygments_lexer": "ipython3",
   "version": "3.10.12"
  }
 },
 "nbformat": 4,
 "nbformat_minor": 5
}
