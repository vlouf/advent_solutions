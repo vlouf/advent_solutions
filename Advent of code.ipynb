{
 "cells": [
  {
   "cell_type": "markdown",
   "id": "b57d874d",
   "metadata": {},
   "source": [
    "# Day 1\n",
    "\n",
    "https://adventofcode.com/2020"
   ]
  },
  {
   "cell_type": "code",
   "execution_count": 1,
   "id": "b14f494f",
   "metadata": {},
   "outputs": [],
   "source": [
    "with open(\"./adventofcode.com_2020_day_1_input.txt\", \"r\") as fid:\n",
    "    content = fid.read().splitlines()\n",
    "    content = [int(c) for c in content]"
   ]
  },
  {
   "cell_type": "code",
   "execution_count": 4,
   "id": "dbb860f7",
   "metadata": {},
   "outputs": [
    {
     "name": "stdout",
     "output_type": "stream",
     "text": [
      "855 883 282\n",
      "212900130\n"
     ]
    },
    {
     "ename": "ValueError",
     "evalue": "f",
     "output_type": "error",
     "traceback": [
      "\u001b[1;31m---------------------------------------------------------------------------\u001b[0m",
      "\u001b[1;31mValueError\u001b[0m                                Traceback (most recent call last)",
      "Input \u001b[1;32mIn [4]\u001b[0m, in \u001b[0;36m<cell line: 2>\u001b[1;34m()\u001b[0m\n\u001b[0;32m      8\u001b[0m \u001b[38;5;28mprint\u001b[39m(content[i], content[j],  content[k])\n\u001b[0;32m      9\u001b[0m \u001b[38;5;28mprint\u001b[39m(content[i] \u001b[38;5;241m*\u001b[39m content[j] \u001b[38;5;241m*\u001b[39m content[k])\n\u001b[1;32m---> 10\u001b[0m \u001b[38;5;28;01mraise\u001b[39;00m \u001b[38;5;167;01mValueError\u001b[39;00m(\u001b[38;5;124m\"\u001b[39m\u001b[38;5;124mf\u001b[39m\u001b[38;5;124m\"\u001b[39m)\n",
      "\u001b[1;31mValueError\u001b[0m: f"
     ]
    }
   ],
   "source": [
    "nl = len(content)\n",
    "for i in range(nl):\n",
    "    for j in range(nl):\n",
    "        for k in range(nl):\n",
    "            if i == j or i == k or j == k:\n",
    "                continue\n",
    "            if content[i] + content[j] + content[k] == 2020:\n",
    "                print(content[i], content[j],  content[k])\n",
    "                print(content[i] * content[j] * content[k])\n",
    "                raise ValueError(\"f\")"
   ]
  },
  {
   "cell_type": "markdown",
   "id": "84acbce5",
   "metadata": {},
   "source": [
    "# Day 2"
   ]
  },
  {
   "cell_type": "code",
   "execution_count": 5,
   "id": "c5b15d8a",
   "metadata": {},
   "outputs": [],
   "source": [
    "import re\n",
    "with open(\"./adventofcode.com_2020_day_2_input.txt\", \"r\") as fid:\n",
    "    content = fid.read().splitlines()"
   ]
  },
  {
   "cell_type": "code",
   "execution_count": 19,
   "id": "9eae79f9",
   "metadata": {},
   "outputs": [],
   "source": [
    "def check_pw(line):\n",
    "    nums, chars, pw = line.split(\" \")\n",
    "    num = [int(n) for n in nums.split(\"-\")]\n",
    "    char = chars.replace(\":\", \"\")\n",
    "\n",
    "    n = len(re.findall(char, pw))\n",
    "    if n >= num[0] and n <= num[1]:\n",
    "        return 1\n",
    "    else:\n",
    "        return 0"
   ]
  },
  {
   "cell_type": "code",
   "execution_count": 23,
   "id": "26bbd578",
   "metadata": {},
   "outputs": [
    {
     "data": {
      "text/plain": [
       "422"
      ]
     },
     "execution_count": 23,
     "metadata": {},
     "output_type": "execute_result"
    }
   ],
   "source": [
    "sum([check_pw(c) for c in content])"
   ]
  },
  {
   "cell_type": "code",
   "execution_count": 24,
   "id": "5c3231fd",
   "metadata": {},
   "outputs": [],
   "source": [
    "def check_pw2(line):\n",
    "    nums, chars, pw = line.split(\" \")\n",
    "    num = [int(n) for n in nums.split(\"-\")]\n",
    "    char = chars.replace(\":\", \"\")\n",
    "\n",
    "    if char == pw[num[0] - 1] and char != pw[num[1] - 1]:\n",
    "        return 1\n",
    "    elif char != pw[num[0] - 1] and char == pw[num[1] - 1]:\n",
    "        return 1\n",
    "    else:\n",
    "        return 0"
   ]
  },
  {
   "cell_type": "code",
   "execution_count": 26,
   "id": "9abe18e7",
   "metadata": {},
   "outputs": [
    {
     "data": {
      "text/plain": [
       "451"
      ]
     },
     "execution_count": 26,
     "metadata": {},
     "output_type": "execute_result"
    }
   ],
   "source": [
    "sum([check_pw2(c) for c in content])"
   ]
  },
  {
   "cell_type": "markdown",
   "id": "800b668e",
   "metadata": {},
   "source": [
    "# Day 3"
   ]
  },
  {
   "cell_type": "code",
   "execution_count": 35,
   "id": "5ce65e4f",
   "metadata": {},
   "outputs": [],
   "source": [
    "import numpy as np"
   ]
  },
  {
   "cell_type": "code",
   "execution_count": 47,
   "id": "7c02d4b5",
   "metadata": {},
   "outputs": [],
   "source": [
    "with open(\"./adventofcode.com_2020_day_3_input.txt\", \"r\") as fid:\n",
    "    content = fid.read().splitlines()"
   ]
  },
  {
   "cell_type": "code",
   "execution_count": 51,
   "id": "3f8a7646",
   "metadata": {},
   "outputs": [],
   "source": [
    "nl = len(content[0])\n",
    "maxline = len(content)"
   ]
  },
  {
   "cell_type": "code",
   "execution_count": 55,
   "id": "3114b720",
   "metadata": {},
   "outputs": [
    {
     "name": "stdout",
     "output_type": "stream",
     "text": [
      "268\n"
     ]
    }
   ],
   "source": [
    "i = 0\n",
    "j = 0\n",
    "count = 0\n",
    "while i < maxline -1:\n",
    "    i += 1\n",
    "    j += 3\n",
    "    if j >= n:\n",
    "        j = j % nl\n",
    "    if content[i][j] == \"#\":\n",
    "        count += 1\n",
    "print(count)"
   ]
  },
  {
   "cell_type": "markdown",
   "id": "d063b97b",
   "metadata": {},
   "source": [
    "- Right 1, down 1.\n",
    "- Right 3, down 1. (This is the slope you already checked.)\n",
    "- Right 5, down 1.\n",
    "- Right 7, down 1.\n",
    "- Right 1, down 2."
   ]
  },
  {
   "cell_type": "code",
   "execution_count": 56,
   "id": "29492e84",
   "metadata": {},
   "outputs": [
    {
     "name": "stdout",
     "output_type": "stream",
     "text": [
      "68\n",
      "268\n",
      "73\n",
      "75\n",
      "31\n"
     ]
    }
   ],
   "source": [
    "ledger = []\n",
    "for mov in [[1, 1], [3, 1], [5, 1], [7, 1], [1, 2]]:\n",
    "    i = 0\n",
    "    j = 0\n",
    "    count = 0\n",
    "    while i < maxline -1:\n",
    "        i += mov[1]\n",
    "        j += mov[0]\n",
    "        if j >= n:\n",
    "            j = j % nl\n",
    "        if content[i][j] == \"#\":\n",
    "            count += 1\n",
    "    print(count)\n",
    "    ledger.append(count)"
   ]
  },
  {
   "cell_type": "code",
   "execution_count": 59,
   "id": "1808e1e8",
   "metadata": {},
   "outputs": [
    {
     "data": {
      "text/plain": [
       "3093068400"
      ]
     },
     "execution_count": 59,
     "metadata": {},
     "output_type": "execute_result"
    }
   ],
   "source": [
    "68 * 268 * 73 * 75 * 31"
   ]
  },
  {
   "cell_type": "markdown",
   "id": "d0afb38d",
   "metadata": {},
   "source": [
    "# Day 4"
   ]
  },
  {
   "cell_type": "code",
   "execution_count": null,
   "id": "dba96ff2",
   "metadata": {},
   "outputs": [],
   "source": []
  }
 ],
 "metadata": {
  "kernelspec": {
   "display_name": "Python 3 (ipykernel)",
   "language": "python",
   "name": "python3"
  },
  "language_info": {
   "codemirror_mode": {
    "name": "ipython",
    "version": 3
   },
   "file_extension": ".py",
   "mimetype": "text/x-python",
   "name": "python",
   "nbconvert_exporter": "python",
   "pygments_lexer": "ipython3",
   "version": "3.9.12"
  }
 },
 "nbformat": 4,
 "nbformat_minor": 5
}
